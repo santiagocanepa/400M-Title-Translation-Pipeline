{
 "cells": [
  {
   "cell_type": "markdown",
   "id": "5b5df0b5-77b5-4d34-bb68-e39c10219e6c",
   "metadata": {
    "tags": []
   },
   "source": [
    "# Introduction"
   ]
  },
  {
   "cell_type": "markdown",
   "id": "515a41fa-ad44-4ba4-bfa5-4bb4466215ab",
   "metadata": {},
   "source": [
    "* In this notebook, we will analyze job titles to detect whether they are in English or not using three methods: FastText, langdetect, and CLD3. We will measure the resources consumed by each method and compare their results."
   ]
  },
  {
   "cell_type": "markdown",
   "id": "7ffe9f7b-6b50-4d05-9ea5-3a25102ede4e",
   "metadata": {},
   "source": [
    "# Load Data"
   ]
  },
  {
   "cell_type": "code",
   "execution_count": 1,
   "id": "48a4cb33-cdaa-4049-8812-93952574c195",
   "metadata": {},
   "outputs": [
    {
     "name": "stdout",
     "output_type": "stream",
     "text": [
      "Requirement already satisfied: setuptools==67.6.1 in /home/ec2-user/anaconda3/envs/python3/lib/python3.10/site-packages (67.6.1)\n",
      "Note: you may need to restart the kernel to use updated packages.\n"
     ]
    }
   ],
   "source": [
    "%pip install setuptools==67.6.1\n"
   ]
  },
  {
   "cell_type": "code",
   "execution_count": 2,
   "id": "5aca277e-45a6-46f7-a4f6-84ce523e864a",
   "metadata": {
    "tags": []
   },
   "outputs": [],
   "source": [
    "import pandas as pd\n",
    "\n",
    "df1 = pd.read_csv('2024-11-12 2_54pm.csv')\n",
    "\n"
   ]
  },
  {
   "cell_type": "code",
   "execution_count": 3,
   "id": "34f59d9f-40fc-4028-a88a-7da650834e14",
   "metadata": {
    "tags": []
   },
   "outputs": [
    {
     "data": {
      "text/plain": [
       "(10000000, 2)"
      ]
     },
     "execution_count": 3,
     "metadata": {},
     "output_type": "execute_result"
    }
   ],
   "source": [
    "df1.shape"
   ]
  },
  {
   "cell_type": "markdown",
   "id": "4935ae57-b39f-4dbb-8e59-9652f96c4503",
   "metadata": {},
   "source": [
    "# Data Analysis\n"
   ]
  },
  {
   "cell_type": "code",
   "execution_count": 3,
   "id": "60ac577d-3205-4e93-b392-d86497beccbf",
   "metadata": {
    "tags": []
   },
   "outputs": [
    {
     "name": "stdout",
     "output_type": "stream",
     "text": [
      "Total number of records: 1000\n",
      "Missing 'JOB_TITLE' entries: 0\n"
     ]
    }
   ],
   "source": [
    "print(f\"Total number of records: {len(df)}\")\n",
    "\n",
    "missing_titles = df['JOB_TITLE'].isnull().sum()\n",
    "print(f\"Missing 'JOB_TITLE' entries: {missing_titles}\")\n",
    "\n",
    "df = df.dropna(subset=['JOB_TITLE'])\n",
    "\n"
   ]
  },
  {
   "cell_type": "markdown",
   "id": "17e7b580-6c41-4095-948f-cd39b796f10f",
   "metadata": {},
   "source": [
    "# Language Detection Methods\n"
   ]
  },
  {
   "cell_type": "markdown",
   "id": "e957cd01-281c-4ccc-bbe8-7c141f926847",
   "metadata": {},
   "source": [
    "* Using FastText\n",
    "\n"
   ]
  },
  {
   "cell_type": "code",
   "execution_count": 4,
   "id": "2fb526f1-ce79-437a-b162-569ee16e8a4b",
   "metadata": {
    "tags": []
   },
   "outputs": [
    {
     "name": "stdout",
     "output_type": "stream",
     "text": [
      "Requirement already satisfied: fasttext in /home/ec2-user/anaconda3/envs/python3/lib/python3.10/site-packages (0.9.3)\n",
      "Requirement already satisfied: pybind11>=2.2 in /home/ec2-user/anaconda3/envs/python3/lib/python3.10/site-packages (from fasttext) (2.13.6)\n",
      "Requirement already satisfied: setuptools>=0.7.0 in /home/ec2-user/anaconda3/envs/python3/lib/python3.10/site-packages (from fasttext) (67.6.1)\n",
      "Requirement already satisfied: numpy in /home/ec2-user/anaconda3/envs/python3/lib/python3.10/site-packages (from fasttext) (1.26.4)\n"
     ]
    }
   ],
   "source": [
    "!pip install fasttext\n",
    "\n",
    "import fasttext\n",
    "\n",
    "!wget -q -O lid.176.ftz https://dl.fbaipublicfiles.com/fasttext/supervised-models/lid.176.ftz\n",
    "\n",
    "model_fasttext = fasttext.load_model('lid.176.ftz')\n",
    "\n",
    "def detect_language_fasttext(text):\n",
    "    prediction = model_fasttext.predict(text.replace('\\n', ' '), k=1)\n",
    "    lang = prediction[0][0].replace('__label__', '')\n",
    "    return lang\n"
   ]
  },
  {
   "cell_type": "markdown",
   "id": "04be2919-dac0-4158-aee5-f010aa628218",
   "metadata": {},
   "source": [
    "* Using langdetect\n",
    "\n"
   ]
  },
  {
   "cell_type": "code",
   "execution_count": 5,
   "id": "a35091a3-35d4-4d35-bc94-0f01883c20d5",
   "metadata": {
    "tags": []
   },
   "outputs": [
    {
     "name": "stdout",
     "output_type": "stream",
     "text": [
      "Requirement already satisfied: langdetect in /home/ec2-user/anaconda3/envs/python3/lib/python3.10/site-packages (1.0.9)\n",
      "Requirement already satisfied: six in /home/ec2-user/anaconda3/envs/python3/lib/python3.10/site-packages (from langdetect) (1.16.0)\n"
     ]
    }
   ],
   "source": [
    "!pip install langdetect\n",
    "\n",
    "from langdetect import detect, DetectorFactory\n",
    "DetectorFactory.seed = 0  \n",
    "\n",
    "def detect_language_langdetect(text):\n",
    "    try:\n",
    "        return detect(text)\n",
    "    except:\n",
    "        return 'unknown'\n"
   ]
  },
  {
   "cell_type": "markdown",
   "id": "517ff323-5eb2-40e7-8411-fedf9cab2440",
   "metadata": {},
   "source": [
    "* Using langid"
   ]
  },
  {
   "cell_type": "code",
   "execution_count": 6,
   "id": "5f58a4a1-9176-4661-bc20-07d9de33d0d9",
   "metadata": {
    "tags": []
   },
   "outputs": [
    {
     "name": "stdout",
     "output_type": "stream",
     "text": [
      "Requirement already satisfied: langid in /home/ec2-user/anaconda3/envs/python3/lib/python3.10/site-packages (1.1.6)\n",
      "Requirement already satisfied: numpy in /home/ec2-user/anaconda3/envs/python3/lib/python3.10/site-packages (from langid) (1.26.4)\n"
     ]
    }
   ],
   "source": [
    "!pip install langid\n",
    "\n",
    "import langid\n",
    "\n",
    "def detect_language_langid(text):\n",
    "    lang, score = langid.classify(text)\n",
    "    return lang\n"
   ]
  },
  {
   "cell_type": "markdown",
   "id": "c1cac056-3c5a-4482-b026-550d99faf5e9",
   "metadata": {},
   "source": [
    "# Measuring Resource Usage\n"
   ]
  },
  {
   "cell_type": "code",
   "execution_count": 7,
   "id": "8b8e8a8f-2003-4f2a-9efd-87a9113acb7a",
   "metadata": {},
   "outputs": [
    {
     "name": "stdout",
     "output_type": "stream",
     "text": [
      "FastText - Time taken: 0.02 seconds\n",
      "langdetect - Time taken: 18.60 seconds\n",
      "langid - Time taken: 5.53 seconds\n"
     ]
    }
   ],
   "source": [
    "import time\n",
    "\n",
    "start_time = time.time()\n",
    "df['lang_fasttext'] = df['JOB_TITLE'].apply(detect_language_fasttext)\n",
    "time_fasttext = time.time() - start_time\n",
    "print(f\"FastText - Time taken: {time_fasttext:.2f} seconds\")\n",
    "\n",
    "start_time = time.time()\n",
    "df['lang_langdetect'] = df['JOB_TITLE'].apply(detect_language_langdetect)\n",
    "time_langdetect = time.time() - start_time\n",
    "print(f\"langdetect - Time taken: {time_langdetect:.2f} seconds\")\n",
    "\n",
    "start_time = time.time()\n",
    "df['lang_langid'] = df['JOB_TITLE'].apply(detect_language_langid)\n",
    "time_langid = time.time() - start_time\n",
    "print(f\"langid - Time taken: {time_langid:.2f} seconds\")\n"
   ]
  },
  {
   "cell_type": "markdown",
   "id": "56b7523e-af81-4078-99c2-1e0ad209fdcf",
   "metadata": {},
   "source": [
    "# Comparing Results"
   ]
  },
  {
   "cell_type": "code",
   "execution_count": 8,
   "id": "0280f14a-07ab-4bfd-b069-b3097d590f70",
   "metadata": {
    "tags": []
   },
   "outputs": [
    {
     "name": "stdout",
     "output_type": "stream",
     "text": [
      "Methods agree on 35.80% of the records.\n",
      "Number of discrepancies: 642\n"
     ]
    },
    {
     "data": {
      "text/html": [
       "<div>\n",
       "<style scoped>\n",
       "    .dataframe tbody tr th:only-of-type {\n",
       "        vertical-align: middle;\n",
       "    }\n",
       "\n",
       "    .dataframe tbody tr th {\n",
       "        vertical-align: top;\n",
       "    }\n",
       "\n",
       "    .dataframe thead th {\n",
       "        text-align: right;\n",
       "    }\n",
       "</style>\n",
       "<table border=\"1\" class=\"dataframe\">\n",
       "  <thead>\n",
       "    <tr style=\"text-align: right;\">\n",
       "      <th></th>\n",
       "      <th>JOB_TITLE</th>\n",
       "      <th>lang_fasttext</th>\n",
       "      <th>lang_langdetect</th>\n",
       "      <th>lang_langid</th>\n",
       "    </tr>\n",
       "  </thead>\n",
       "  <tbody>\n",
       "    <tr>\n",
       "      <th>0</th>\n",
       "      <td>project manager</td>\n",
       "      <td>en</td>\n",
       "      <td>hr</td>\n",
       "      <td>en</td>\n",
       "    </tr>\n",
       "    <tr>\n",
       "      <th>1</th>\n",
       "      <td>manager</td>\n",
       "      <td>en</td>\n",
       "      <td>tl</td>\n",
       "      <td>en</td>\n",
       "    </tr>\n",
       "    <tr>\n",
       "      <th>2</th>\n",
       "      <td>owner</td>\n",
       "      <td>en</td>\n",
       "      <td>pl</td>\n",
       "      <td>en</td>\n",
       "    </tr>\n",
       "    <tr>\n",
       "      <th>3</th>\n",
       "      <td>intern</td>\n",
       "      <td>en</td>\n",
       "      <td>de</td>\n",
       "      <td>en</td>\n",
       "    </tr>\n",
       "    <tr>\n",
       "      <th>4</th>\n",
       "      <td>software engineer</td>\n",
       "      <td>en</td>\n",
       "      <td>af</td>\n",
       "      <td>en</td>\n",
       "    </tr>\n",
       "    <tr>\n",
       "      <th>5</th>\n",
       "      <td>assistant manager</td>\n",
       "      <td>en</td>\n",
       "      <td>en</td>\n",
       "      <td>fr</td>\n",
       "    </tr>\n",
       "    <tr>\n",
       "      <th>6</th>\n",
       "      <td>sales associate</td>\n",
       "      <td>en</td>\n",
       "      <td>it</td>\n",
       "      <td>fr</td>\n",
       "    </tr>\n",
       "    <tr>\n",
       "      <th>7</th>\n",
       "      <td>customer service representative</td>\n",
       "      <td>en</td>\n",
       "      <td>en</td>\n",
       "      <td>sv</td>\n",
       "    </tr>\n",
       "    <tr>\n",
       "      <th>9</th>\n",
       "      <td>administrative assistant</td>\n",
       "      <td>en</td>\n",
       "      <td>pt</td>\n",
       "      <td>en</td>\n",
       "    </tr>\n",
       "    <tr>\n",
       "      <th>11</th>\n",
       "      <td>consultant</td>\n",
       "      <td>en</td>\n",
       "      <td>it</td>\n",
       "      <td>en</td>\n",
       "    </tr>\n",
       "  </tbody>\n",
       "</table>\n",
       "</div>"
      ],
      "text/plain": [
       "                          JOB_TITLE lang_fasttext lang_langdetect lang_langid\n",
       "0                   project manager            en              hr          en\n",
       "1                           manager            en              tl          en\n",
       "2                             owner            en              pl          en\n",
       "3                            intern            en              de          en\n",
       "4                 software engineer            en              af          en\n",
       "5                 assistant manager            en              en          fr\n",
       "6                   sales associate            en              it          fr\n",
       "7   customer service representative            en              en          sv\n",
       "9          administrative assistant            en              pt          en\n",
       "11                       consultant            en              it          en"
      ]
     },
     "execution_count": 8,
     "metadata": {},
     "output_type": "execute_result"
    }
   ],
   "source": [
    "df['is_english_fasttext'] = df['lang_fasttext'] == 'en'\n",
    "df['is_english_langdetect'] = df['lang_langdetect'] == 'en'\n",
    "df['is_english_langid'] = df['lang_langid'] == 'en'\n",
    "\n",
    "df['all_agree'] = df[['is_english_fasttext', 'is_english_langdetect', 'is_english_langid']].nunique(axis=1) == 1\n",
    "\n",
    "agreement_rate = df['all_agree'].mean() * 100\n",
    "print(f\"Methods agree on {agreement_rate:.2f}% of the records.\")\n",
    "\n",
    "df_discrepancies = df[~df['all_agree']]\n",
    "\n",
    "print(f\"Number of discrepancies: {len(df_discrepancies)}\")\n",
    "\n",
    "df_discrepancies[['JOB_TITLE', 'lang_fasttext', 'lang_langdetect', 'lang_langid']].head(10)\n"
   ]
  },
  {
   "cell_type": "markdown",
   "id": "0d3dd770-39f8-4053-aa6e-c404bdc232f7",
   "metadata": {},
   "source": [
    "# Initial conclusion"
   ]
  },
  {
   "cell_type": "markdown",
   "id": "43b3c9b6-cf2b-4f39-a392-7149b3e75705",
   "metadata": {},
   "source": [
    "* Fast shows greater efficiency in terms of accuracy and processing time. So we will use it for the second step which is to detect the language in the top 50% of the most frequent titles."
   ]
  },
  {
   "cell_type": "code",
   "execution_count": null,
   "id": "3aee6eb0-2245-406d-af03-9949dc14c1c7",
   "metadata": {},
   "outputs": [],
   "source": []
  }
 ],
 "metadata": {
  "kernelspec": {
   "display_name": "conda_python3",
   "language": "python",
   "name": "conda_python3"
  },
  "language_info": {
   "codemirror_mode": {
    "name": "ipython",
    "version": 3
   },
   "file_extension": ".py",
   "mimetype": "text/x-python",
   "name": "python",
   "nbconvert_exporter": "python",
   "pygments_lexer": "ipython3",
   "version": "3.10.15"
  }
 },
 "nbformat": 4,
 "nbformat_minor": 5
}
