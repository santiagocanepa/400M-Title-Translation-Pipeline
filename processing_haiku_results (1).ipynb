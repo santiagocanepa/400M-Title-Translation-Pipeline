{
 "cells": [
  {
   "cell_type": "markdown",
   "id": "c4a405de-8671-4401-a58f-caa9b6d573b6",
   "metadata": {},
   "source": [
    "## Data Concatenation Process\n",
    "\n",
    "The code snippet provided handles the concatenation of multiple JSON files located in the specified directory (`Garbage_Collector/data/haiku_labeled_batches`). These files are named with the pattern `results_batch_*.json`.\n",
    "\n",
    "\n",
    "### Data Context:\n",
    "\n",
    "The concatenated files contain labeled data batches, used to tag job titles as either 'real' or 'fake'. This process is part of:\n",
    "- **Data Sampling**: Extracted from a larger dataset of the 10 million most frequent job titles.\n",
    "- **Clustering for Diversity**: Ensures diversity across industries and job types.\n",
    "- **Equitable Language Distribution**: Strives for fair representation across languages.\n",
    "\n",
    "In addition to the real job titles dataset, there's also a synthetic dataset created for fake titles. This synthetic dataset aims for equitable distribution in languages and categories, defined under the \"Subdirectory\" column.\n",
    "\n",
    "The operation combines both real and synthetic datasets, providing a comprehensive view for further analysis or machine learning applications.\n"
   ]
  },
  {
   "cell_type": "code",
   "execution_count": 116,
   "id": "c7acc074-7910-40f8-bb42-8aad4bc8ff8e",
   "metadata": {
    "tags": []
   },
   "outputs": [
    {
     "name": "stdout",
     "output_type": "stream",
     "text": [
      "42480\n"
     ]
    }
   ],
   "source": [
    "import os\n",
    "import json\n",
    "import pandas as pd\n",
    "import pandas as pd\n",
    "import matplotlib.pyplot as plt\n",
    "import seaborn as sns\n",
    "\n",
    "\n",
    "directory = 'Garbage_Collector/data/haiku_labeled_batches'\n",
    "\n",
    "files = sorted([file for file in os.listdir(directory) if file.startswith('results_batch_') and file.endswith('.json')])\n",
    "\n",
    "all_results = []\n",
    "\n",
    "for file in files:\n",
    "    file_path = os.path.join(directory, file)  # Une la carpeta con el nombre del archivo\n",
    "    with open(file_path, 'r') as f:\n",
    "        data = json.load(f)\n",
    "        all_results.extend(data)\n",
    "\n",
    "output_file = 'concatenated_results.json'\n",
    "with open(output_file, 'w') as f:\n",
    "    json.dump(all_results, f, indent=4)\n",
    "\n",
    "print(len(all_results))\n"
   ]
  },
  {
   "cell_type": "code",
   "execution_count": 117,
   "id": "d840e5a9-72a5-4dbd-a57f-4da62c9c3908",
   "metadata": {
    "tags": []
   },
   "outputs": [
    {
     "data": {
      "text/plain": [
       "'<thinking>\\n1. Understand what is the job title\\n   - The job title \"wxf bzr\" appears to be a random string of letters\\n   - It does not resemble any known legitimate job title\\n   - The characters seem to be randomly generated or meaningless\\n\\n2. Make a plan to solve the task\\n   - Check if the title contains any recognizable words\\n   - Evaluate the structure and format of the job title\\n   - Determine if it meets the criteria for a legitimate job title\\n\\n3. Solve the plan\\n   - The string \"wxf bzr\" has no discernible meaning\\n   - It lacks any characteristics of a real job title\\n   - Contains no words that indicate a professional role\\n   - Matches the characteristics of spam job titles like random phrases\\n</thinking>\\n\\n<output>\\nspam\\n</output>\\n\\n<confidence>\\n9\\n</confidence>'"
      ]
     },
     "execution_count": 117,
     "metadata": {},
     "output_type": "execute_result"
    }
   ],
   "source": [
    "all_results[0][1]"
   ]
  },
  {
   "cell_type": "markdown",
   "id": "f842ea27-3bc3-4dc1-a983-6d3845b75d60",
   "metadata": {},
   "source": [
    "* The `get_output` function utilizes the `re` library to parse specific elements from an HTML-like string. The function extracts three components:\n",
    "  - **Output**: Retrieved between `<output>` and `</output>` tags.\n",
    "  - **Confidence**: Extracted from between `<confidence>` and `</confidence>` tags.\n",
    "  - **Thinking**: Captured from between `<thinking>` and `</thinking>` tags.\n",
    "\n",
    "  The function returns a tuple containing the extracted `output`, `confidence`, and `thinking` strings, providing a structured way to analyze how the model reasoned its response, its final decision (`output`), and its confidence level in that decision.\n"
   ]
  },
  {
   "cell_type": "code",
   "execution_count": 118,
   "id": "ad496bd1-e5b9-44de-9619-4ab3be4cc04e",
   "metadata": {
    "tags": []
   },
   "outputs": [],
   "source": [
    "import re\n",
    "\n",
    "def get_output(r):\n",
    "    out = re.findall(r'\\<output\\>(.*)\\<\\/output\\>', r, re.DOTALL)[0].strip()\n",
    "    con = re.findall(r'\\<confidence\\>(.*)\\<\\/confidence\\>', r, re.DOTALL)[0].strip()\n",
    "    think = re.findall(r'\\<thinking\\>(.*)\\<\\/thinking\\>', r, re.DOTALL)[0].strip()\n",
    "\n",
    "    return out, con, think"
   ]
  },
  {
   "cell_type": "code",
   "execution_count": 119,
   "id": "6f963efb-d7b4-4441-aff5-b1403460789c",
   "metadata": {
    "tags": []
   },
   "outputs": [],
   "source": [
    "out, con, think = get_output(all_results[0][1])"
   ]
  },
  {
   "cell_type": "code",
   "execution_count": 120,
   "id": "2767e634-86db-4ae4-8739-e8b015d6f4ab",
   "metadata": {
    "tags": []
   },
   "outputs": [
    {
     "data": {
      "text/plain": [
       "'spam'"
      ]
     },
     "execution_count": 120,
     "metadata": {},
     "output_type": "execute_result"
    }
   ],
   "source": [
    "out"
   ]
  },
  {
   "cell_type": "code",
   "execution_count": 121,
   "id": "2d4d4090-8b28-480e-a6ca-0610e8fbfb95",
   "metadata": {
    "tags": []
   },
   "outputs": [
    {
     "data": {
      "text/plain": [
       "'9'"
      ]
     },
     "execution_count": 121,
     "metadata": {},
     "output_type": "execute_result"
    }
   ],
   "source": [
    "con"
   ]
  },
  {
   "cell_type": "code",
   "execution_count": 122,
   "id": "4b1f9f0f-48b6-44b9-bab7-2960c57880b0",
   "metadata": {
    "tags": []
   },
   "outputs": [
    {
     "data": {
      "text/plain": [
       "'1. Understand what is the job title\\n   - The job title \"wxf bzr\" appears to be a random string of letters\\n   - It does not resemble any known legitimate job title\\n   - The characters seem to be randomly generated or meaningless\\n\\n2. Make a plan to solve the task\\n   - Check if the title contains any recognizable words\\n   - Evaluate the structure and format of the job title\\n   - Determine if it meets the criteria for a legitimate job title\\n\\n3. Solve the plan\\n   - The string \"wxf bzr\" has no discernible meaning\\n   - It lacks any characteristics of a real job title\\n   - Contains no words that indicate a professional role\\n   - Matches the characteristics of spam job titles like random phrases'"
      ]
     },
     "execution_count": 122,
     "metadata": {},
     "output_type": "execute_result"
    }
   ],
   "source": [
    "think"
   ]
  },
  {
   "cell_type": "code",
   "execution_count": 123,
   "id": "adffa2f6-c1de-4759-a93b-22abaef04df4",
   "metadata": {
    "tags": []
   },
   "outputs": [
    {
     "data": {
      "text/plain": [
       "'wxf bzr'"
      ]
     },
     "execution_count": 123,
     "metadata": {},
     "output_type": "execute_result"
    }
   ],
   "source": [
    "all_results[0][0]"
   ]
  },
  {
   "cell_type": "code",
   "execution_count": null,
   "id": "ff1b1e0d-a16c-46de-81dd-f12abaad87cc",
   "metadata": {
    "tags": []
   },
   "outputs": [],
   "source": [
    "data = [] \n",
    "\n",
    "for idx, result in enumerate(all_results): \n",
    "    try:\n",
    "        out, con, think = get_output(result[1])\n",
    "        job_title = result[0]\n",
    "        data.append({\"JOB_TITLE\": job_title, \"OUTPUT\": out, \"CONFIDENCE\": con, \"THINKING\": think})\n",
    "    except IndexError as e:\n",
    "        print(idx, {result[0],result[1]})\n",
    "        continue \n"
   ]
  },
  {
   "cell_type": "code",
   "execution_count": 125,
   "id": "bc8c0219-b16f-4d28-97d5-5ca6d2a9cc94",
   "metadata": {
    "tags": []
   },
   "outputs": [],
   "source": [
    "df = pd.DataFrame(data)\n"
   ]
  },
  {
   "cell_type": "code",
   "execution_count": 126,
   "id": "cef38f02-1464-4bcf-a5b4-2c25a77b29f5",
   "metadata": {
    "tags": []
   },
   "outputs": [
    {
     "data": {
      "text/html": [
       "<div>\n",
       "<style scoped>\n",
       "    .dataframe tbody tr th:only-of-type {\n",
       "        vertical-align: middle;\n",
       "    }\n",
       "\n",
       "    .dataframe tbody tr th {\n",
       "        vertical-align: top;\n",
       "    }\n",
       "\n",
       "    .dataframe thead th {\n",
       "        text-align: right;\n",
       "    }\n",
       "</style>\n",
       "<table border=\"1\" class=\"dataframe\">\n",
       "  <thead>\n",
       "    <tr style=\"text-align: right;\">\n",
       "      <th></th>\n",
       "      <th>JOB_TITLE</th>\n",
       "      <th>OUTPUT</th>\n",
       "      <th>CONFIDENCE</th>\n",
       "      <th>THINKING</th>\n",
       "    </tr>\n",
       "  </thead>\n",
       "  <tbody>\n",
       "    <tr>\n",
       "      <th>0</th>\n",
       "      <td>wxf bzr</td>\n",
       "      <td>spam</td>\n",
       "      <td>9</td>\n",
       "      <td>1. Understand what is the job title\\n   - The ...</td>\n",
       "    </tr>\n",
       "    <tr>\n",
       "      <th>1</th>\n",
       "      <td>mkq szn</td>\n",
       "      <td>spam</td>\n",
       "      <td>9</td>\n",
       "      <td>1. Understand what is the job title\\n- The job...</td>\n",
       "    </tr>\n",
       "    <tr>\n",
       "      <th>2</th>\n",
       "      <td>vop rpfq</td>\n",
       "      <td>spam</td>\n",
       "      <td>9</td>\n",
       "      <td>1. Understand the job title:\\n   - The input \"...</td>\n",
       "    </tr>\n",
       "    <tr>\n",
       "      <th>3</th>\n",
       "      <td>ypl-3qf</td>\n",
       "      <td>spam</td>\n",
       "      <td>9</td>\n",
       "      <td>1. Understand the job title:\\n- The title \"ypl...</td>\n",
       "    </tr>\n",
       "    <tr>\n",
       "      <th>4</th>\n",
       "      <td>tspx vq</td>\n",
       "      <td>spam</td>\n",
       "      <td>9</td>\n",
       "      <td>1. Understand the job title:\\n- \"tspx vq\" appe...</td>\n",
       "    </tr>\n",
       "  </tbody>\n",
       "</table>\n",
       "</div>"
      ],
      "text/plain": [
       "  JOB_TITLE OUTPUT CONFIDENCE  \\\n",
       "0   wxf bzr   spam          9   \n",
       "1   mkq szn   spam          9   \n",
       "2  vop rpfq   spam          9   \n",
       "3   ypl-3qf   spam          9   \n",
       "4   tspx vq   spam          9   \n",
       "\n",
       "                                            THINKING  \n",
       "0  1. Understand what is the job title\\n   - The ...  \n",
       "1  1. Understand what is the job title\\n- The job...  \n",
       "2  1. Understand the job title:\\n   - The input \"...  \n",
       "3  1. Understand the job title:\\n- The title \"ypl...  \n",
       "4  1. Understand the job title:\\n- \"tspx vq\" appe...  "
      ]
     },
     "execution_count": 126,
     "metadata": {},
     "output_type": "execute_result"
    }
   ],
   "source": [
    "df.head()"
   ]
  },
  {
   "cell_type": "code",
   "execution_count": 127,
   "id": "b5b90df6-3e59-46da-925e-4a464196a856",
   "metadata": {
    "collapsed": true,
    "jupyter": {
     "outputs_hidden": true
    },
    "tags": []
   },
   "outputs": [
    {
     "data": {
      "text/plain": [
       "real                                                                                                                                                                                                  26270\n",
       "spam                                                                                                                                                                                                  16150\n",
       "borderline (leaning towards real)                                                                                                                                                                         3\n",
       "Unable to classify                                                                                                                                                                                        2\n",
       "real (for montør)\\nspam (for bas)                                                                                                                                                                         1\n",
       "Spam                                                                                                                                                                                                      1\n",
       "spam (as it is not a job title)                                                                                                                                                                           1\n",
       "real (with some reservation due to incomplete text)                                                                                                                                                       1\n",
       "(Please provide a specific job title for me to classify)                                                                                                                                                  1\n",
       "Unable to classify - no job title provided                                                                                                                                                                1\n",
       "Выражение \"падать\" является стандартным глаголом русского языка с широким спектром значений                                                                                                               1\n",
       "potential spam                                                                                                                                                                                            1\n",
       "Potentially real (leaning towards real due to agricultural context)                                                                                                                                       1\n",
       "[Awaiting job title to classify as \"real\" or \"spam\"]                                                                                                                                                      1\n",
       "Real                                                                                                                                                                                                      1\n",
       "lærervikar: real\\nassistent: real                                                                                                                                                                         1\n",
       "real (for both \"prep cook\" and \"cashier\")                                                                                                                                                                 1\n",
       "real (with caution due to incomplete title)                                                                                                                                                               1\n",
       "borderline spam                                                                                                                                                                                           1\n",
       "Unable to classify - No specific job title provided                                                                                                                                                       1\n",
       "To properly classify the job title, I would need the specific title you want me to evaluate. The output of \"real\" or \"spam\" depends on the actual job title provided.                                     1\n",
       "borderline (leaning towards \"real\")                                                                                                                                                                       1\n",
       "Unable to classify without a specific job title                                                                                                                                                           1\n",
       "I cannot definitively classify the job title because the input \"Todavía falta claridad\" appears to be a Spanish phrase meaning \"There is still a lack of clarity\" rather than an actual job title.        1\n",
       "Cannot classify - input is unreadable                                                                                                                                                                     1\n",
       "Partially spam (mixed classification)                                                                                                                                                                     1\n",
       "prosjektleder: real\\npartner: real                                                                                                                                                                        1\n",
       "virksomhetsleder: real\\nrektor: real                                                                                                                                                                      1\n",
       "Partial spam (mixed classification)                                                                                                                                                                       1\n",
       "- kontorassistent: real\\n- blæksprutte: spam                                                                                                                                                              1\n",
       "招聘经理: real\\nhr bp: borderline (leaning towards real)                                                                                                                                                      1\n",
       "partially real (leaning towards spam)                                                                                                                                                                     1\n",
       "real\\nreal                                                                                                                                                                                                1\n",
       "Cannot classify - not a job title                                                                                                                                                                         1\n",
       "Invalid (Not a job title)                                                                                                                                                                                 1\n",
       "Not a job title                                                                                                                                                                                           1\n",
       "Unable to classify. Please provide a valid job title.                                                                                                                                                     1\n",
       "To provide the classification, I'll need you to share a specific job title for analysis.                                                                                                                  1\n",
       "Since the input is \"możesz próbować\" (which means \"you can try\" in Polish), this appears to be a phrase/instruction rather than a job title. Therefore, I classify this as \"spam\".                        1\n",
       "Need a specific job title to classify. Please provide the job title for analysis.                                                                                                                         1\n",
       "Unable to classify (Not a job title)                                                                                                                                                                      1\n",
       "No job title was provided to classify                                                                                                                                                                     1\n",
       "I cannot provide a classification because no job title was provided in the input.                                                                                                                         1\n",
       "N/A (not a job title)                                                                                                                                                                                     1\n",
       "I apologize, but you haven't provided a specific job title for me to classify. Without a job title to analyze, I cannot determine if it's real or spam.                                                   1\n",
       "uncertain (leaning towards real)                                                                                                                                                                          1\n",
       "Name: OUTPUT, dtype: int64"
      ]
     },
     "execution_count": 127,
     "metadata": {},
     "output_type": "execute_result"
    }
   ],
   "source": [
    "df['OUTPUT'].value_counts()"
   ]
  },
  {
   "cell_type": "code",
   "execution_count": 128,
   "id": "5fb93b85-ccc8-44c9-b80e-18db94bdd8fa",
   "metadata": {
    "tags": []
   },
   "outputs": [],
   "source": [
    "spam_9 = len(df[(df['OUTPUT'] == 'spam') & (df['CONFIDENCE'] == '9')])\n",
    "spam_8 = len(df[(df['OUTPUT'] == 'spam') & (df['CONFIDENCE'] == '8')])\n",
    "real_9 = len(df[(df['OUTPUT'] == 'real') & (df['CONFIDENCE'] == '9')])\n",
    "real_8 = len(df[(df['OUTPUT'] == 'real') & (df['CONFIDENCE'] == '8')])"
   ]
  },
  {
   "cell_type": "code",
   "execution_count": 129,
   "id": "b8bbc266-e3b6-418b-b345-6c99c5de8e56",
   "metadata": {
    "tags": []
   },
   "outputs": [
    {
     "name": "stdout",
     "output_type": "stream",
     "text": [
      "spam 9 : 4691\n",
      "----\n",
      "spam 8 : 8760\n",
      "----\n",
      "real 9:  18991\n",
      "----\n",
      "real 8:  6109\n"
     ]
    }
   ],
   "source": [
    "print('spam 9 :',spam_9)\n",
    "print('----')\n",
    "print('spam 8 :',spam_8)\n",
    "print('----')\n",
    "print('real 9: ', real_9)\n",
    "print('----')\n",
    "print('real 8: ',real_8)"
   ]
  },
  {
   "cell_type": "code",
   "execution_count": 130,
   "id": "689abea6-4840-45b5-a10e-374c0b574149",
   "metadata": {
    "tags": []
   },
   "outputs": [
    {
     "data": {
      "image/png": "[encoded data removed]",
      "text/plain": [
       "<Figure size 1000x600 with 1 Axes>"
      ]
     },
     "metadata": {},
     "output_type": "display_data"
    }
   ],
   "source": [
    "filtered_scores_all = df[df['OUTPUT'].isin(['spam', 'real']) & df['CONFIDENCE'].isin(['10', '9', '8', '7'])]\n",
    "grouped_counts = filtered_scores_all.groupby(['OUTPUT', 'CONFIDENCE']).size().unstack(fill_value=0)\n",
    "\n",
    "grouped_counts.plot(kind='bar', figsize=(10, 6))\n",
    "plt.title(\"Counts of 'Spam' and 'Real' Outputs for Confidence Scores 10, 9, 8, and 7\")\n",
    "plt.xlabel(\"Output Label\")\n",
    "plt.ylabel(\"Count\")\n",
    "plt.xticks(rotation=0)\n",
    "plt.legend(title=\"Confidence Score\", bbox_to_anchor=(1.05, 1), loc='upper left')\n",
    "plt.tight_layout()\n",
    "plt.show()\n"
   ]
  },
  {
   "cell_type": "markdown",
   "id": "380c00ae-244a-4de9-80d5-8e3e431e78f3",
   "metadata": {},
   "source": [
    "* We import `df_original`, which contains synthetic data for fake titles, segmented by their various categories defined in the `Subdirectorio` column. Next, we merge `df_original` with a DataFrame containing labels. To distinguish between fake titles from synthetic data and those derived from the most frequent title sample, we label the latter as `Real` in the `Subdirectorio` column. Thus, fake titles from synthetic data retain their category labels in `Subdirectorio`, whereas titles from the frequent sample are marked as `Real`.\n"
   ]
  },
  {
   "cell_type": "code",
   "execution_count": 153,
   "id": "ff3b4c94-f2fe-4638-80d5-84d6a443f996",
   "metadata": {
    "tags": []
   },
   "outputs": [],
   "source": [
    "df_original = pd.read_csv('data/merged_titles.csv', engine='python')\n"
   ]
  },
  {
   "cell_type": "code",
   "execution_count": 154,
   "id": "29c88d1f-5ca1-4d56-b8d6-bab4dda6dd55",
   "metadata": {
    "tags": []
   },
   "outputs": [
    {
     "data": {
      "text/html": [
       "<div>\n",
       "<style scoped>\n",
       "    .dataframe tbody tr th:only-of-type {\n",
       "        vertical-align: middle;\n",
       "    }\n",
       "\n",
       "    .dataframe tbody tr th {\n",
       "        vertical-align: top;\n",
       "    }\n",
       "\n",
       "    .dataframe thead th {\n",
       "        text-align: right;\n",
       "    }\n",
       "</style>\n",
       "<table border=\"1\" class=\"dataframe\">\n",
       "  <thead>\n",
       "    <tr style=\"text-align: right;\">\n",
       "      <th></th>\n",
       "      <th>JOB_TITLE</th>\n",
       "      <th>Subdirectorio</th>\n",
       "      <th>embedding</th>\n",
       "      <th>Cluster</th>\n",
       "    </tr>\n",
       "  </thead>\n",
       "  <tbody>\n",
       "    <tr>\n",
       "      <th>0</th>\n",
       "      <td>wxf bzr</td>\n",
       "      <td>Acronyms or Abbreviations That Are Unclear or ...</td>\n",
       "      <td>NaN</td>\n",
       "      <td>NaN</td>\n",
       "    </tr>\n",
       "    <tr>\n",
       "      <th>1</th>\n",
       "      <td>mkq szn</td>\n",
       "      <td>Acronyms or Abbreviations That Are Unclear or ...</td>\n",
       "      <td>NaN</td>\n",
       "      <td>NaN</td>\n",
       "    </tr>\n",
       "    <tr>\n",
       "      <th>2</th>\n",
       "      <td>vop rpfq</td>\n",
       "      <td>Acronyms or Abbreviations That Are Unclear or ...</td>\n",
       "      <td>NaN</td>\n",
       "      <td>NaN</td>\n",
       "    </tr>\n",
       "    <tr>\n",
       "      <th>3</th>\n",
       "      <td>ypl-3qf</td>\n",
       "      <td>Acronyms or Abbreviations That Are Unclear or ...</td>\n",
       "      <td>NaN</td>\n",
       "      <td>NaN</td>\n",
       "    </tr>\n",
       "    <tr>\n",
       "      <th>4</th>\n",
       "      <td>tspx vq</td>\n",
       "      <td>Acronyms or Abbreviations That Are Unclear or ...</td>\n",
       "      <td>NaN</td>\n",
       "      <td>NaN</td>\n",
       "    </tr>\n",
       "  </tbody>\n",
       "</table>\n",
       "</div>"
      ],
      "text/plain": [
       "  JOB_TITLE                                      Subdirectorio embedding  \\\n",
       "0   wxf bzr  Acronyms or Abbreviations That Are Unclear or ...       NaN   \n",
       "1   mkq szn  Acronyms or Abbreviations That Are Unclear or ...       NaN   \n",
       "2  vop rpfq  Acronyms or Abbreviations That Are Unclear or ...       NaN   \n",
       "3   ypl-3qf  Acronyms or Abbreviations That Are Unclear or ...       NaN   \n",
       "4   tspx vq  Acronyms or Abbreviations That Are Unclear or ...       NaN   \n",
       "\n",
       "   Cluster  \n",
       "0      NaN  \n",
       "1      NaN  \n",
       "2      NaN  \n",
       "3      NaN  \n",
       "4      NaN  "
      ]
     },
     "execution_count": 154,
     "metadata": {},
     "output_type": "execute_result"
    }
   ],
   "source": [
    "df_original.head()"
   ]
  },
  {
   "cell_type": "code",
   "execution_count": 155,
   "id": "83dcde2f-4eea-41e9-a2a7-ab22e19e45c5",
   "metadata": {
    "tags": []
   },
   "outputs": [
    {
     "data": {
      "text/plain": [
       "array(['Acronyms or Abbreviations That Are Unclear or Incomplete',\n",
       "       'CompanyTitles',\n",
       "       'Phrases or Words i Indicating Uncertainty or Lack of Information',\n",
       "       'RandomFrases', 'jobfalses',\n",
       "       'Fields of Study, Degrees, or Training Programs',\n",
       "       'Job Advertisements or Descriptions', 'Real'], dtype=object)"
      ]
     },
     "execution_count": 155,
     "metadata": {},
     "output_type": "execute_result"
    }
   ],
   "source": [
    "df_original['Subdirectorio'].unique()"
   ]
  },
  {
   "cell_type": "code",
   "execution_count": 156,
   "id": "ba405d6e-c699-4552-b019-5ee45f2fd115",
   "metadata": {
    "tags": []
   },
   "outputs": [],
   "source": [
    "df_original = df_original.dropna(subset=['JOB_TITLE'])\n",
    "\n",
    "df_original = df_original.reset_index(drop=True)"
   ]
  },
  {
   "cell_type": "code",
   "execution_count": 20,
   "id": "7eaa3033-444e-4712-a88d-3fd0ceefd9a1",
   "metadata": {
    "collapsed": true,
    "jupyter": {
     "outputs_hidden": true
    },
    "tags": []
   },
   "outputs": [
    {
     "name": "stdout",
     "output_type": "stream",
     "text": [
      "                 JOB_TITLE OUTPUT CONFIDENCE  \\\n",
      "817                    Sol   spam          8   \n",
      "899                   Film   spam          7   \n",
      "942                    Blå   spam          8   \n",
      "947                 Vision   spam          8   \n",
      "1500              ZłotyKąt   spam          7   \n",
      "...                    ...    ...        ...   \n",
      "40040                 雲の画家   spam          8   \n",
      "41365  penulis cerita lucu   real          8   \n",
      "41498  penulis cerita lucu   real          9   \n",
      "42060  curador de cochilos   spam          8   \n",
      "42064  curador de cochilos   spam          8   \n",
      "\n",
      "                                                THINKING  \n",
      "817    1. Understand the job title:\\n- \"Sol\" is an ex...  \n",
      "899    1. Understand what is the job title\\n- The job...  \n",
      "942    1. Understand what is the job title\\n- \"Blå\" a...  \n",
      "947    1. Understand what is the job title\\n- \"Vision...  \n",
      "1500   1. Understand what is the job title\\n- \"ZłotyK...  \n",
      "...                                                  ...  \n",
      "40040  1. Understand the job title:\\n- \"雲の画家\" literal...  \n",
      "41365  1. Understand the job title:\\n- \"penulis cerit...  \n",
      "41498  1. Understand the job title:\\n- \"penulis cerit...  \n",
      "42060  1. Understand the job title:\\n- \"Curador de co...  \n",
      "42064  1. Understand the job title:\\n   - \"curador de...  \n",
      "\n",
      "[107 rows x 4 columns]\n",
      "Found: 107\n"
     ]
    }
   ],
   "source": [
    "duplicads_df = df[df.duplicated(subset='JOB_TITLE', keep=False)]\n",
    "if not duplicads_df.empty:\n",
    "    print(duplicads_df)\n",
    "else:\n",
    "    print(\"Not found anything.\")\n",
    "\n",
    "duplicateds = df_original[df_original.duplicated(subset='JOB_TITLE', keep=False)]\n",
    "if not duplicateds.empty:\n",
    "    print(\"Found:\", len(duplicateds))\n",
    "else:\n",
    "    print(\"not duplicates in df_original in jobtitle.\")\n"
   ]
  },
  {
   "cell_type": "code",
   "execution_count": 157,
   "id": "f4c1138b-51da-40df-a08e-0d61eade7b2b",
   "metadata": {
    "tags": []
   },
   "outputs": [],
   "source": [
    "df = df.drop_duplicates(subset='JOB_TITLE', keep='first')\n",
    "\n",
    "df_original = df_original.drop_duplicates(subset='JOB_TITLE', keep='first')\n"
   ]
  },
  {
   "cell_type": "code",
   "execution_count": 158,
   "id": "09efd29f-89e9-4111-a95e-f34b66bc28b9",
   "metadata": {
    "tags": []
   },
   "outputs": [
    {
     "data": {
      "text/html": [
       "<div>\n",
       "<style scoped>\n",
       "    .dataframe tbody tr th:only-of-type {\n",
       "        vertical-align: middle;\n",
       "    }\n",
       "\n",
       "    .dataframe tbody tr th {\n",
       "        vertical-align: top;\n",
       "    }\n",
       "\n",
       "    .dataframe thead th {\n",
       "        text-align: right;\n",
       "    }\n",
       "</style>\n",
       "<table border=\"1\" class=\"dataframe\">\n",
       "  <thead>\n",
       "    <tr style=\"text-align: right;\">\n",
       "      <th></th>\n",
       "      <th>JOB_TITLE</th>\n",
       "      <th>OUTPUT</th>\n",
       "      <th>CONFIDENCE</th>\n",
       "      <th>THINKING</th>\n",
       "      <th>Subdirectorio</th>\n",
       "      <th>embedding</th>\n",
       "      <th>Cluster</th>\n",
       "    </tr>\n",
       "  </thead>\n",
       "  <tbody>\n",
       "    <tr>\n",
       "      <th>0</th>\n",
       "      <td>wxf bzr</td>\n",
       "      <td>spam</td>\n",
       "      <td>9</td>\n",
       "      <td>1. Understand what is the job title\\n   - The ...</td>\n",
       "      <td>Acronyms or Abbreviations That Are Unclear or ...</td>\n",
       "      <td>NaN</td>\n",
       "      <td>NaN</td>\n",
       "    </tr>\n",
       "    <tr>\n",
       "      <th>1</th>\n",
       "      <td>mkq szn</td>\n",
       "      <td>spam</td>\n",
       "      <td>9</td>\n",
       "      <td>1. Understand what is the job title\\n- The job...</td>\n",
       "      <td>Acronyms or Abbreviations That Are Unclear or ...</td>\n",
       "      <td>NaN</td>\n",
       "      <td>NaN</td>\n",
       "    </tr>\n",
       "    <tr>\n",
       "      <th>2</th>\n",
       "      <td>vop rpfq</td>\n",
       "      <td>spam</td>\n",
       "      <td>9</td>\n",
       "      <td>1. Understand the job title:\\n   - The input \"...</td>\n",
       "      <td>Acronyms or Abbreviations That Are Unclear or ...</td>\n",
       "      <td>NaN</td>\n",
       "      <td>NaN</td>\n",
       "    </tr>\n",
       "    <tr>\n",
       "      <th>3</th>\n",
       "      <td>ypl-3qf</td>\n",
       "      <td>spam</td>\n",
       "      <td>9</td>\n",
       "      <td>1. Understand the job title:\\n- The title \"ypl...</td>\n",
       "      <td>Acronyms or Abbreviations That Are Unclear or ...</td>\n",
       "      <td>NaN</td>\n",
       "      <td>NaN</td>\n",
       "    </tr>\n",
       "    <tr>\n",
       "      <th>4</th>\n",
       "      <td>tspx vq</td>\n",
       "      <td>spam</td>\n",
       "      <td>9</td>\n",
       "      <td>1. Understand the job title:\\n- \"tspx vq\" appe...</td>\n",
       "      <td>Acronyms or Abbreviations That Are Unclear or ...</td>\n",
       "      <td>NaN</td>\n",
       "      <td>NaN</td>\n",
       "    </tr>\n",
       "  </tbody>\n",
       "</table>\n",
       "</div>"
      ],
      "text/plain": [
       "  JOB_TITLE OUTPUT CONFIDENCE  \\\n",
       "0   wxf bzr   spam          9   \n",
       "1   mkq szn   spam          9   \n",
       "2  vop rpfq   spam          9   \n",
       "3   ypl-3qf   spam          9   \n",
       "4   tspx vq   spam          9   \n",
       "\n",
       "                                            THINKING  \\\n",
       "0  1. Understand what is the job title\\n   - The ...   \n",
       "1  1. Understand what is the job title\\n- The job...   \n",
       "2  1. Understand the job title:\\n   - The input \"...   \n",
       "3  1. Understand the job title:\\n- The title \"ypl...   \n",
       "4  1. Understand the job title:\\n- \"tspx vq\" appe...   \n",
       "\n",
       "                                       Subdirectorio embedding  Cluster  \n",
       "0  Acronyms or Abbreviations That Are Unclear or ...       NaN      NaN  \n",
       "1  Acronyms or Abbreviations That Are Unclear or ...       NaN      NaN  \n",
       "2  Acronyms or Abbreviations That Are Unclear or ...       NaN      NaN  \n",
       "3  Acronyms or Abbreviations That Are Unclear or ...       NaN      NaN  \n",
       "4  Acronyms or Abbreviations That Are Unclear or ...       NaN      NaN  "
      ]
     },
     "execution_count": 158,
     "metadata": {},
     "output_type": "execute_result"
    }
   ],
   "source": [
    "df_total_columns = pd.merge(df, df_original, on='JOB_TITLE', how='inner')\n",
    "\n",
    "df_total_columns.head()\n"
   ]
  },
  {
   "cell_type": "code",
   "execution_count": 159,
   "id": "fe193c63-a68e-472b-8287-ce3aae1e4685",
   "metadata": {
    "tags": []
   },
   "outputs": [
    {
     "data": {
      "text/plain": [
       "(42412, 4)"
      ]
     },
     "execution_count": 159,
     "metadata": {},
     "output_type": "execute_result"
    }
   ],
   "source": [
    "df.shape"
   ]
  },
  {
   "cell_type": "code",
   "execution_count": 160,
   "id": "e9fa2d2f-4829-48f7-a3c5-bc4f93f27540",
   "metadata": {
    "tags": []
   },
   "outputs": [
    {
     "data": {
      "text/plain": [
       "(42425, 4)"
      ]
     },
     "execution_count": 160,
     "metadata": {},
     "output_type": "execute_result"
    }
   ],
   "source": [
    "df_original.shape"
   ]
  },
  {
   "cell_type": "code",
   "execution_count": 161,
   "id": "81d0a9e4-6db7-4188-9c30-f816bf6009f5",
   "metadata": {
    "tags": []
   },
   "outputs": [
    {
     "data": {
      "text/plain": [
       "(42412, 7)"
      ]
     },
     "execution_count": 161,
     "metadata": {},
     "output_type": "execute_result"
    }
   ],
   "source": [
    "df_total_columns.shape"
   ]
  },
  {
   "cell_type": "code",
   "execution_count": 162,
   "id": "3fb62f31-8faf-4145-9bad-cf804fd9bb57",
   "metadata": {
    "tags": []
   },
   "outputs": [
    {
     "data": {
      "text/plain": [
       "Index(['JOB_TITLE', 'OUTPUT', 'CONFIDENCE', 'THINKING', 'Subdirectorio',\n",
       "       'embedding', 'Cluster'],\n",
       "      dtype='object')"
      ]
     },
     "execution_count": 162,
     "metadata": {},
     "output_type": "execute_result"
    }
   ],
   "source": [
    "df_total_columns.columns"
   ]
  },
  {
   "cell_type": "code",
   "execution_count": 163,
   "id": "38082209-2d6c-4adc-83bb-ab14c390c016",
   "metadata": {
    "tags": []
   },
   "outputs": [
    {
     "data": {
      "text/plain": [
       "array(['Acronyms or Abbreviations That Are Unclear or Incomplete',\n",
       "       'CompanyTitles', 'jobfalses',\n",
       "       'Fields of Study, Degrees, or Training Programs',\n",
       "       'Job Advertisements or Descriptions', 'Real', 'RandomFrases',\n",
       "       'Phrases or Words i Indicating Uncertainty or Lack of Information'],\n",
       "      dtype=object)"
      ]
     },
     "execution_count": 163,
     "metadata": {},
     "output_type": "execute_result"
    }
   ],
   "source": [
    "df_total_columns['Subdirectorio'].unique()"
   ]
  },
  {
   "cell_type": "markdown",
   "id": "c2a524c9-e984-4f18-a306-390b8260c679",
   "metadata": {},
   "source": [
    "## Data Filtering and Compliance Analysis\n",
    "\n",
    "The code snippet executes several operations on the dataframe `df_total_columns`, focusing on the 'CONFIDENCE' column and compliance status derived from the 'OUTPUT' column. This analysis is part of the validation process for synthetic data of fake job titles.\n",
    "\n",
    "### Key Operations:\n",
    "\n",
    "1. **Display Unique Values**: The script prints the unique values in the 'CONFIDENCE' column to understand its data diversity.\n",
    "   \n",
    "2. **Data Cleaning**:\n",
    "   - **Conversion to Numeric**: The 'CONFIDENCE' column is converted to numeric, with non-numeric values coerced into NaNs.\n",
    "   - **Handling Missing Values**: Counts and prints the number of non-numeric values converted to NaNs.\n",
    "   - **Row Filtering**: Removes rows with NaNs in the 'CONFIDENCE' column and further restricts data to values between 0 and 10.\n",
    "\n",
    "3. **Compliance Status Assignment**:\n",
    "   - **Filtering Rows**: Selects rows that do not belong to the 'Real' category in 'Subdirectorio'.\n",
    "   - **Compliance Determination**: Applies a lambda function to determine compliance status based on the 'OUTPUT' column's value ('spam' indicates 'Compliant'; otherwise, 'Non-Compliant').\n",
    "\n",
    "4. **Compliance Summary**:\n",
    "   - **Counting Compliance**: Computes and visualizes the count of 'Compliant' vs 'Non-Compliant' statuses using a bar chart.\n",
    "   - **Average Confidence by Compliance**: Calculates and visualizes the average 'CONFIDENCE' for each compliance status.\n",
    "\n",
    "5. **Detailed Analysis**:\n",
    "   - **Contingency Table**: Creates and visualizes a contingency table for 'CONFIDENCE' against compliance status, displaying the distribution across confidence levels.\n",
    "\n",
    "### Visualizations:\n",
    "\n",
    "- Two bar charts are generated to visually summarize the count and average confidence by compliance status.\n",
    "- A bar chart for the contingency table highlights the distribution of confidence scores across compliance statuses.\n",
    "\n",
    "### Context and Purpose:\n",
    "\n",
    "The processed data will compare synthetic job titles' fake labels with their assigned confidence levels by the classifier, assessing the labels' accuracy. This analysis helps validate the classifier's efficacy before applying it to real job titles. Ultimately, the goal is to refine the synthetic dataset by keeping only those entries correctly labeled as 'fake,' reducing ambiguity in training the XGBoost model.\n"
   ]
  },
  {
   "cell_type": "code",
   "execution_count": null,
   "id": "c03fb231-c258-43e8-885b-6cec856e3741",
   "metadata": {
    "tags": []
   },
   "outputs": [],
   "source": [
    "!pip install pandas matplotlib seaborn\n"
   ]
  },
  {
   "cell_type": "code",
   "execution_count": 165,
   "id": "3a07878e-0f0b-43e2-b6c6-764dcf7b3c7e",
   "metadata": {
    "tags": []
   },
   "outputs": [
    {
     "name": "stdout",
     "output_type": "stream",
     "text": [
      "Unique values in 'CONFIDENCE':\n",
      "['9' '8' '10' '7' '6'\n",
      " '8\\n\\nReasoning for confidence:\\n- Very vague job description\\n- Non-specific language\\n- Implies attractive payment without clear job details\\n- Sounds like a generic job advertisement\\n- Uses broad, non-specific terminology\\n- Lacks concrete job responsibilities'\n",
      " '5 (neutral, pending specific job title input)'\n",
      " '7 - Moderate confidence due to potential ambiguity of \"bas\" and need for more context'\n",
      " '1' '5'\n",
      " '6 - Moderate confidence. The title has some legitimate potential interpretations, but lacks complete clarity.'\n",
      " '9 - Both titles represent genuine professional roles with clear meaning and context'\n",
      " '9 (very high confidence)'\n",
      " '8 (High confidence in the evaluation methodology, but actual classification requires specific input)'\n",
      " '0 (No job title to evaluate)'\n",
      " '7\\n\\nReasoning for spam classification:\\n- The title is very vague and non-specific\\n- Sounds more like a description of a process than an actual job title\\n- Lacks clear indication of a specific role or professional position\\n- Could be an incomplete or placeholder job description\\n- Does not follow standard job title naming conventions'\n",
      " '3/10 - Insufficient information to make a precise classification'\n",
      " '1 (No confidence due to incomprehensible input)'\n",
      " '9 - Both terms are clear, professional job titles with specific meanings in business contexts'\n",
      " '9 - Both terms are standard, well-defined professional titles in Norwegian language and context, with clear organizational roles and responsibilities.'\n",
      " 'kontorassistent: 9/10 (clear professional term)\\nblæksprutte: 7/10 (appears to be a metaphorical or humorous title)'\n",
      " '招聘经理: 9/10 (very clear, professional title)\\nhr bp: 7/10 (common abbreviation, but slightly unclear)'\n",
      " '7 (Prepared with a comprehensive approach, but awaiting specific input)'\n",
      " '10 (Completely certain this is not a job title)'\n",
      " '0 (No job title was given to evaluate)'\n",
      " '10 (Extremely high confidence that this is spam due to complete randomness and lack of any meaningful language structure)'\n",
      " '9 (High confidence due to the complete lack of professional job title structure)'\n",
      " '10 (completely certain this is not a job title)' '0'\n",
      " '9 - The phrase has very low characteristics of a legitimate job title and appears to be a random or incomplete phrase.'\n",
      " \"7\\n\\nReasoning for confidence:\\n- The title sounds more like a poetic phrase than a real job\\n- It lacks specificity typical of professional job titles\\n- Seems like a metaphorical or creative description rather than an actual occupation\\n- While it could potentially refer to a niche musicological research role, the phrasing suggests it's more likely a creative or humorous invention\"]\n",
      "Number of non-numeric values in 'CONFIDENCE': 23\n"
     ]
    },
    {
     "name": "stderr",
     "output_type": "stream",
     "text": [
      "/tmp/ipykernel_18642/842623211.py:15: SettingWithCopyWarning: \n",
      "A value is trying to be set on a copy of a slice from a DataFrame.\n",
      "Try using .loc[row_indexer,col_indexer] = value instead\n",
      "\n",
      "See the caveats in the documentation: https://pandas.pydata.org/pandas-docs/stable/user_guide/indexing.html#returning-a-view-versus-a-copy\n",
      "  filtered_rows['Compliance Status'] = filtered_rows['OUTPUT'].apply(lambda x: 'Compliant' if x.lower() == 'spam' else 'Non-Compliant')\n",
      "/tmp/ipykernel_18642/842623211.py:28: FutureWarning: \n",
      "\n",
      "Passing `palette` without assigning `hue` is deprecated and will be removed in v0.14.0. Assign the `x` variable to `hue` and set `legend=False` for the same effect.\n",
      "\n",
      "  sns.barplot(data=compliance_counts, x='Compliance Status', y='Count', palette=['green', 'red'])\n"
     ]
    },
    {
     "data": {
      "image/png": "[encoded data removed]",
      "text/plain": [
       "<Figure size 800x600 with 1 Axes>"
      ]
     },
     "metadata": {},
     "output_type": "display_data"
    },
    {
     "name": "stderr",
     "output_type": "stream",
     "text": [
      "/tmp/ipykernel_18642/842623211.py:37: FutureWarning: \n",
      "\n",
      "Passing `palette` without assigning `hue` is deprecated and will be removed in v0.14.0. Assign the `x` variable to `hue` and set `legend=False` for the same effect.\n",
      "\n",
      "  sns.barplot(data=average_confidence, x='Compliance Status', y='CONFIDENCE', palette=['green', 'red'])\n"
     ]
    },
    {
     "data": {
      "image/png": "[encoded data removed]",
      "text/plain": [
       "<Figure size 800x600 with 1 Axes>"
      ]
     },
     "metadata": {},
     "output_type": "display_data"
    },
    {
     "data": {
      "image/png": "[encoded data removed]",
      "text/plain": [
       "<Figure size 1200x800 with 1 Axes>"
      ]
     },
     "metadata": {},
     "output_type": "display_data"
    }
   ],
   "source": [
    "\n",
    "print(\"Unique values in 'CONFIDENCE':\")\n",
    "print(df_total_columns['CONFIDENCE'].unique())\n",
    "\n",
    "df_total_columns['CONFIDENCE'] = pd.to_numeric(df_total_columns['CONFIDENCE'], errors='coerce')\n",
    "\n",
    "num_missing = df_total_columns['CONFIDENCE'].isna().sum()\n",
    "print(f\"Number of non-numeric values in 'CONFIDENCE': {num_missing}\")\n",
    "\n",
    "df_total_columns = df_total_columns.dropna(subset=['CONFIDENCE'])\n",
    "\n",
    "df_total_columns = df_total_columns[(df_total_columns['CONFIDENCE'] >= 0) & (df_total_columns['CONFIDENCE'] <= 10)]\n",
    "\n",
    "filtered_rows = df_total_columns[~df_total_columns['Subdirectorio'].isin(['Real'])]\n",
    "\n",
    "filtered_rows['Compliance Status'] = filtered_rows['OUTPUT'].apply(lambda x: 'Compliant' if x.lower() == 'spam' else 'Non-Compliant')\n",
    "\n",
    "compliance_counts = filtered_rows['Compliance Status'].value_counts().reset_index()\n",
    "compliance_counts.columns = ['Compliance Status', 'Count']\n",
    "\n",
    "if 'Compliant' not in compliance_counts['Compliance Status'].values:\n",
    "    compliance_counts = compliance_counts.append({'Compliance Status': 'Compliant', 'Count': 0}, ignore_index=True)\n",
    "if 'Non-Compliant' not in compliance_counts['Compliance Status'].values:\n",
    "    compliance_counts = compliance_counts.append({'Compliance Status': 'Non-Compliant', 'Count': 0}, ignore_index=True)\n",
    "\n",
    "compliance_counts = compliance_counts.set_index('Compliance Status').loc[['Compliant', 'Non-Compliant']].reset_index()\n",
    "\n",
    "plt.figure(figsize=(8,6))\n",
    "sns.barplot(data=compliance_counts, x='Compliance Status', y='Count', palette=['green', 'red'])\n",
    "plt.title(\"Number of Rows Compliant vs Non-Compliant\")\n",
    "plt.ylabel(\"Number of Rows\")\n",
    "plt.xlabel(\"Compliance Status\")\n",
    "plt.show()\n",
    "\n",
    "average_confidence = filtered_rows.groupby('Compliance Status')['CONFIDENCE'].mean().reset_index()\n",
    "\n",
    "plt.figure(figsize=(8,6))\n",
    "sns.barplot(data=average_confidence, x='Compliance Status', y='CONFIDENCE', palette=['green', 'red'])\n",
    "plt.title(\"Average Confidence by Compliance Status\")\n",
    "plt.ylabel(\"Average Confidence\")\n",
    "plt.xlabel(\"Compliance Status\")\n",
    "plt.show()\n",
    "\n",
    "contingency_table = pd.crosstab(filtered_rows['CONFIDENCE'], filtered_rows['Compliance Status'])\n",
    "contingency_table = contingency_table.reindex(range(0, 11), fill_value=0)\n",
    "\n",
    "contingency_table.plot(kind='bar', figsize=(12,8), color=['green', 'red'])\n",
    "plt.title(\"Number of Rows by Confidence and Compliance Status\")\n",
    "plt.xlabel(\"Confidence\")\n",
    "plt.ylabel(\"Number of Rows\")\n",
    "plt.legend(title='Compliance Status')\n",
    "plt.tight_layout()\n",
    "plt.show()\n",
    "\n",
    "\n"
   ]
  },
  {
   "cell_type": "markdown",
   "id": "48791889-e2bf-423e-90a7-c42c0bfb8001",
   "metadata": {},
   "source": [
    "* Fortunately, the labeler is very consistent with the received data*. However, next, we will visualize the categories where there may have been more errors.\n",
    "\n",
    "* Note: The labeling consistency indicates reliable data handling and preprocessing, but an analysis of error-prone categories will help further refine the system.\n"
   ]
  },
  {
   "cell_type": "code",
   "execution_count": 166,
   "id": "b613e308-836c-4b4f-8d89-c22ebe87d074",
   "metadata": {
    "tags": []
   },
   "outputs": [
    {
     "data": {
      "text/html": [
       "<div>\n",
       "<style scoped>\n",
       "    .dataframe tbody tr th:only-of-type {\n",
       "        vertical-align: middle;\n",
       "    }\n",
       "\n",
       "    .dataframe tbody tr th {\n",
       "        vertical-align: top;\n",
       "    }\n",
       "\n",
       "    .dataframe thead th {\n",
       "        text-align: right;\n",
       "    }\n",
       "</style>\n",
       "<table border=\"1\" class=\"dataframe\">\n",
       "  <thead>\n",
       "    <tr style=\"text-align: right;\">\n",
       "      <th></th>\n",
       "      <th>Subdirectorio</th>\n",
       "      <th>Spam_Quantity</th>\n",
       "    </tr>\n",
       "  </thead>\n",
       "  <tbody>\n",
       "    <tr>\n",
       "      <th>0</th>\n",
       "      <td>Real</td>\n",
       "      <td>3869</td>\n",
       "    </tr>\n",
       "    <tr>\n",
       "      <th>1</th>\n",
       "      <td>RandomFrases</td>\n",
       "      <td>3330</td>\n",
       "    </tr>\n",
       "    <tr>\n",
       "      <th>2</th>\n",
       "      <td>jobfalses</td>\n",
       "      <td>2310</td>\n",
       "    </tr>\n",
       "    <tr>\n",
       "      <th>3</th>\n",
       "      <td>CompanyTitles</td>\n",
       "      <td>2303</td>\n",
       "    </tr>\n",
       "    <tr>\n",
       "      <th>4</th>\n",
       "      <td>Job Advertisements or Descriptions</td>\n",
       "      <td>2234</td>\n",
       "    </tr>\n",
       "  </tbody>\n",
       "</table>\n",
       "</div>"
      ],
      "text/plain": [
       "                        Subdirectorio  Spam_Quantity\n",
       "0                                Real           3869\n",
       "1                        RandomFrases           3330\n",
       "2                           jobfalses           2310\n",
       "3                       CompanyTitles           2303\n",
       "4  Job Advertisements or Descriptions           2234"
      ]
     },
     "execution_count": 166,
     "metadata": {},
     "output_type": "execute_result"
    }
   ],
   "source": [
    "df_spam = df_total_columns[df_total_columns['OUTPUT'] == 'spam']\n",
    "\n",
    "spam_counts = df_spam['Subdirectorio'].value_counts().reset_index()\n",
    "spam_counts.columns = ['Subdirectorio', 'Spam_Quantity']\n",
    "\n",
    "spam_counts.head()\n"
   ]
  },
  {
   "cell_type": "code",
   "execution_count": 167,
   "id": "0e66f638-000c-479b-a40c-62d7190bbb89",
   "metadata": {
    "tags": []
   },
   "outputs": [],
   "source": [
    "total_counts = df_total_columns['Subdirectorio'].value_counts().reset_index()\n",
    "total_counts.columns = ['Subdirectorio', 'Total']\n",
    "\n",
    "spam_por_subdir = pd.merge(spam_counts, total_counts, on='Subdirectorio')\n",
    "\n",
    "spam_por_subdir['Spam_Ratio'] = spam_por_subdir['Spam_Quantity'] / spam_por_subdir['Total']\n"
   ]
  },
  {
   "cell_type": "code",
   "execution_count": 168,
   "id": "c49500cf-04a7-480b-85a3-3ea0a692807d",
   "metadata": {
    "tags": []
   },
   "outputs": [
    {
     "data": {
      "text/html": [
       "<div>\n",
       "<style scoped>\n",
       "    .dataframe tbody tr th:only-of-type {\n",
       "        vertical-align: middle;\n",
       "    }\n",
       "\n",
       "    .dataframe tbody tr th {\n",
       "        vertical-align: top;\n",
       "    }\n",
       "\n",
       "    .dataframe thead th {\n",
       "        text-align: right;\n",
       "    }\n",
       "</style>\n",
       "<table border=\"1\" class=\"dataframe\">\n",
       "  <thead>\n",
       "    <tr style=\"text-align: right;\">\n",
       "      <th></th>\n",
       "      <th>Subdirectorio</th>\n",
       "      <th>Spam_Quantity</th>\n",
       "      <th>Total</th>\n",
       "      <th>Spam_Ratio</th>\n",
       "    </tr>\n",
       "  </thead>\n",
       "  <tbody>\n",
       "    <tr>\n",
       "      <th>0</th>\n",
       "      <td>Real</td>\n",
       "      <td>3869</td>\n",
       "      <td>25643</td>\n",
       "      <td>0.150879</td>\n",
       "    </tr>\n",
       "    <tr>\n",
       "      <th>1</th>\n",
       "      <td>RandomFrases</td>\n",
       "      <td>3330</td>\n",
       "      <td>3359</td>\n",
       "      <td>0.991366</td>\n",
       "    </tr>\n",
       "    <tr>\n",
       "      <th>2</th>\n",
       "      <td>jobfalses</td>\n",
       "      <td>2310</td>\n",
       "      <td>3011</td>\n",
       "      <td>0.767187</td>\n",
       "    </tr>\n",
       "    <tr>\n",
       "      <th>3</th>\n",
       "      <td>CompanyTitles</td>\n",
       "      <td>2303</td>\n",
       "      <td>2987</td>\n",
       "      <td>0.771008</td>\n",
       "    </tr>\n",
       "    <tr>\n",
       "      <th>4</th>\n",
       "      <td>Job Advertisements or Descriptions</td>\n",
       "      <td>2234</td>\n",
       "      <td>3121</td>\n",
       "      <td>0.715796</td>\n",
       "    </tr>\n",
       "  </tbody>\n",
       "</table>\n",
       "</div>"
      ],
      "text/plain": [
       "                        Subdirectorio  Spam_Quantity  Total  Spam_Ratio\n",
       "0                                Real           3869  25643    0.150879\n",
       "1                        RandomFrases           3330   3359    0.991366\n",
       "2                           jobfalses           2310   3011    0.767187\n",
       "3                       CompanyTitles           2303   2987    0.771008\n",
       "4  Job Advertisements or Descriptions           2234   3121    0.715796"
      ]
     },
     "execution_count": 168,
     "metadata": {},
     "output_type": "execute_result"
    }
   ],
   "source": [
    "spam_por_subdir.head()"
   ]
  },
  {
   "cell_type": "markdown",
   "id": "e1fd6034-a901-4f13-92fb-ae8f4a23f999",
   "metadata": {},
   "source": [
    "## Analysis of Titles Labeled as 'Spam'\n",
    "\n",
    "The data analysis reveals insights about the titles categorized as 'spam'. While a modest number of these are from the 'Real' category—potentially correctly labeled since this category comprises the most frequent job titles—there is also a likelihood of mislabeled titles given their proportion.\n",
    "\n",
    "### Noteworthy Observations:\n",
    "\n",
    "- **Mislabeling in Specific Categories**: Higher error rates are observed in categories such as 'Fields of Study', 'Degrees', or 'Training Programs', where the labeling model appears less accurate.\n",
    "\n",
    "*Note: Among the titles labeled as spam, we observe a modest sum labeled as 'Real', which might be correctly labeled as this subdirectory defines those extracted from the most frequent job titles dataset. However, the proportion suggests there might also be mislabeled titles.*\n"
   ]
  },
  {
   "cell_type": "code",
   "execution_count": 169,
   "id": "fb2276f5-5592-48b2-a9b7-c65c28d58eae",
   "metadata": {
    "tags": []
   },
   "outputs": [
    {
     "name": "stderr",
     "output_type": "stream",
     "text": [
      "/tmp/ipykernel_18642/3432877308.py:2: FutureWarning: \n",
      "\n",
      "Passing `palette` without assigning `hue` is deprecated and will be removed in v0.14.0. Assign the `y` variable to `hue` and set `legend=False` for the same effect.\n",
      "\n",
      "  sns.barplot(data=spam_por_subdir, x='Spam_Ratio', y='Subdirectorio', palette='magma')\n"
     ]
    },
    {
     "data": {
      "image/png": "[encoded data removed]",
      "text/plain": [
       "<Figure size 1200x800 with 1 Axes>"
      ]
     },
     "metadata": {},
     "output_type": "display_data"
    }
   ],
   "source": [
    "plt.figure(figsize=(12, 8))\n",
    "sns.barplot(data=spam_por_subdir, x='Spam_Ratio', y='Subdirectorio', palette='magma')\n",
    "plt.title('Spam Ratio by Subdirectory')\n",
    "plt.xlabel('Spam Ratio')\n",
    "plt.ylabel('Subdirectorio')\n",
    "plt.xlim(0, 1)  # Ya que es una proporción\n",
    "plt.tight_layout()\n",
    "plt.show()\n"
   ]
  },
  {
   "cell_type": "code",
   "execution_count": 171,
   "id": "04785396-8e18-4d17-84b0-f9424c22c283",
   "metadata": {
    "tags": []
   },
   "outputs": [],
   "source": [
    "titles_falses = df_total_columns[\n",
    "    (df_total_columns['Subdirectorio'] != 'Real') &\n",
    "    (df_total_columns['OUTPUT'].str.lower() == 'spam') &\n",
    "    (df_total_columns['CONFIDENCE'].isin([8, 9]))\n",
    "][['JOB_TITLE']]\n",
    "\n",
    "titles_falses.to_csv('titles_falses_final.csv', index=False)\n"
   ]
  },
  {
   "cell_type": "code",
   "execution_count": 172,
   "id": "cdf4d85a-1133-4ff8-b5f7-48a7cf5d1db0",
   "metadata": {
    "tags": []
   },
   "outputs": [
    {
     "data": {
      "text/plain": [
       "(10904, 1)"
      ]
     },
     "execution_count": 172,
     "metadata": {},
     "output_type": "execute_result"
    }
   ],
   "source": [
    "titles_falses.shape"
   ]
  },
  {
   "cell_type": "code",
   "execution_count": 173,
   "id": "34e934df-5d7a-41a5-958d-0626a4f3bddd",
   "metadata": {
    "tags": []
   },
   "outputs": [
    {
     "data": {
      "text/html": [
       "<div>\n",
       "<style scoped>\n",
       "    .dataframe tbody tr th:only-of-type {\n",
       "        vertical-align: middle;\n",
       "    }\n",
       "\n",
       "    .dataframe tbody tr th {\n",
       "        vertical-align: top;\n",
       "    }\n",
       "\n",
       "    .dataframe thead th {\n",
       "        text-align: right;\n",
       "    }\n",
       "</style>\n",
       "<table border=\"1\" class=\"dataframe\">\n",
       "  <thead>\n",
       "    <tr style=\"text-align: right;\">\n",
       "      <th></th>\n",
       "      <th>JOB_TITLE</th>\n",
       "      <th>OUTPUT</th>\n",
       "      <th>CONFIDENCE</th>\n",
       "      <th>THINKING</th>\n",
       "      <th>Subdirectorio</th>\n",
       "      <th>embedding</th>\n",
       "      <th>Cluster</th>\n",
       "    </tr>\n",
       "  </thead>\n",
       "  <tbody>\n",
       "    <tr>\n",
       "      <th>9045</th>\n",
       "      <td>rn er i</td>\n",
       "      <td>spam</td>\n",
       "      <td>9.0</td>\n",
       "      <td>1. Understand the job title:\\n- Input is \"rn e...</td>\n",
       "      <td>Real</td>\n",
       "      <td>[-0.002476431429386139, -0.011528815142810345,...</td>\n",
       "      <td>0.0</td>\n",
       "    </tr>\n",
       "  </tbody>\n",
       "</table>\n",
       "</div>"
      ],
      "text/plain": [
       "     JOB_TITLE OUTPUT  CONFIDENCE  \\\n",
       "9045   rn er i   spam         9.0   \n",
       "\n",
       "                                               THINKING Subdirectorio  \\\n",
       "9045  1. Understand the job title:\\n- Input is \"rn e...          Real   \n",
       "\n",
       "                                              embedding  Cluster  \n",
       "9045  [-0.002476431429386139, -0.011528815142810345,...      0.0  "
      ]
     },
     "execution_count": 173,
     "metadata": {},
     "output_type": "execute_result"
    }
   ],
   "source": [
    "df_total_columns[df_total_columns['JOB_TITLE'] == 'rn er i'] #checking why that's 'real'"
   ]
  },
  {
   "cell_type": "markdown",
   "id": "aca76af3-d3cc-4b34-bb5f-dea26173f6cc",
   "metadata": {},
   "source": [
    "## Strategy for Filtering Real and Fake Job Titles\n",
    "\n",
    "The process outlined involves selective filtering of both real and fake job titles based on specific criteria, ensuring the final dataset is balanced and unbiased, particularly in terms of language distribution.\n",
    "\n",
    "### Selection Criteria:\n",
    "\n",
    "1. **Fake Titles**:\n",
    "   - **Label Consistency**: Only include fake titles that were consistently labeled as such by the classifier and match the synthetic data.\n",
    "   \n",
    "2. **Real Titles**:\n",
    "   - **High Confidence Real Labels**: Select only those titles labeled as real with a high confidence level (threshold of 9).\n",
    "   - **Subdirectory Exclusion**: Exclude any titles that have a 'Real' label in the 'Subdirectorio' column, indicating that they might not actually be authentic real job titles.\n",
    "\n",
    "### Language Distribution Analysis:\n",
    "\n",
    "- **Minority Dataset (Fake Titles)**: Analyze the language distribution within the fake titles to understand the minority group's linguistic diversity.\n",
    "- **Adjusting the Real Titles**: Reduce the dataset of real titles by matching the language distribution found in the fake titles. This step is crucial to prevent language bias, as language embeddings can significantly influence model behavior and performance by capturing language-specific features.\n",
    "\n",
    "### Objective:\n",
    "\n",
    "The objective of this strategy is to refine the datasets for a machine learning model training process, particularly for an XGBoost model. By aligning the language distributions and ensuring label accuracy, the model is less likely to develop a bias toward certain languages, thus improving its generalizability and effectiveness across diverse linguistic contexts.\n"
   ]
  },
  {
   "cell_type": "code",
   "execution_count": 174,
   "id": "94ea1762-2d6b-49eb-9325-9c3f01ffb261",
   "metadata": {
    "tags": []
   },
   "outputs": [],
   "source": [
    "titles_real = df_total_columns[\n",
    "    (df_total_columns['Subdirectorio'] == 'Real') &\n",
    "    (df_total_columns['OUTPUT'].str.lower() == 'real') &\n",
    "    (df_total_columns['CONFIDENCE'].isin([9]))\n",
    "]\n",
    "\n"
   ]
  },
  {
   "cell_type": "code",
   "execution_count": 175,
   "id": "d16cbd2f-fd2b-4da9-ae72-46304d2d2b41",
   "metadata": {
    "tags": []
   },
   "outputs": [],
   "source": [
    "pd.set_option('display.max_colwidth', 50)\n",
    "pd.set_option('display.max_columns', None)  \n",
    "pd.set_option('display.expand_frame_repr', True) "
   ]
  },
  {
   "cell_type": "code",
   "execution_count": 176,
   "id": "fc385538-866c-4ab9-9f17-e6e006fe65b8",
   "metadata": {
    "tags": []
   },
   "outputs": [
    {
     "data": {
      "text/html": [
       "<div>\n",
       "<style scoped>\n",
       "    .dataframe tbody tr th:only-of-type {\n",
       "        vertical-align: middle;\n",
       "    }\n",
       "\n",
       "    .dataframe tbody tr th {\n",
       "        vertical-align: top;\n",
       "    }\n",
       "\n",
       "    .dataframe thead th {\n",
       "        text-align: right;\n",
       "    }\n",
       "</style>\n",
       "<table border=\"1\" class=\"dataframe\">\n",
       "  <thead>\n",
       "    <tr style=\"text-align: right;\">\n",
       "      <th></th>\n",
       "      <th>JOB_TITLE</th>\n",
       "      <th>OUTPUT</th>\n",
       "      <th>CONFIDENCE</th>\n",
       "      <th>THINKING</th>\n",
       "      <th>Subdirectorio</th>\n",
       "      <th>embedding</th>\n",
       "      <th>Cluster</th>\n",
       "    </tr>\n",
       "  </thead>\n",
       "  <tbody>\n",
       "    <tr>\n",
       "      <th>8791</th>\n",
       "      <td>mekaniker lærling</td>\n",
       "      <td>real</td>\n",
       "      <td>9.0</td>\n",
       "      <td>1. Understand the job title:\\n- \"mekaniker lær...</td>\n",
       "      <td>Real</td>\n",
       "      <td>[-0.015464311465620995, -0.012787009589374065,...</td>\n",
       "      <td>0.0</td>\n",
       "    </tr>\n",
       "    <tr>\n",
       "      <th>8792</th>\n",
       "      <td>pakkerioperatør</td>\n",
       "      <td>real</td>\n",
       "      <td>9.0</td>\n",
       "      <td>1. Understand the job title:\\n- \"pakkerioperat...</td>\n",
       "      <td>Real</td>\n",
       "      <td>[-0.0037420056760311127, -0.025967968627810478...</td>\n",
       "      <td>0.0</td>\n",
       "    </tr>\n",
       "    <tr>\n",
       "      <th>8794</th>\n",
       "      <td>programudvikler</td>\n",
       "      <td>real</td>\n",
       "      <td>9.0</td>\n",
       "      <td>1. Understand what is the job title\\n- \"progra...</td>\n",
       "      <td>Real</td>\n",
       "      <td>[0.0011849647853523493, -0.021040838211774826,...</td>\n",
       "      <td>0.0</td>\n",
       "    </tr>\n",
       "    <tr>\n",
       "      <th>8796</th>\n",
       "      <td>datafagtekniker lærling</td>\n",
       "      <td>real</td>\n",
       "      <td>9.0</td>\n",
       "      <td>1. Understand the job title:\\n   - \"datafagtek...</td>\n",
       "      <td>Real</td>\n",
       "      <td>[-0.019192222505807877, -0.007996759377419949,...</td>\n",
       "      <td>0.0</td>\n",
       "    </tr>\n",
       "    <tr>\n",
       "      <th>8798</th>\n",
       "      <td>frisør</td>\n",
       "      <td>real</td>\n",
       "      <td>9.0</td>\n",
       "      <td>1. Understand what is the job title\\n- \"frisør...</td>\n",
       "      <td>Real</td>\n",
       "      <td>[-0.009900701232254505, -0.034403253346681595,...</td>\n",
       "      <td>0.0</td>\n",
       "    </tr>\n",
       "  </tbody>\n",
       "</table>\n",
       "</div>"
      ],
      "text/plain": [
       "                    JOB_TITLE OUTPUT  CONFIDENCE  \\\n",
       "8791        mekaniker lærling   real         9.0   \n",
       "8792          pakkerioperatør   real         9.0   \n",
       "8794          programudvikler   real         9.0   \n",
       "8796  datafagtekniker lærling   real         9.0   \n",
       "8798                   frisør   real         9.0   \n",
       "\n",
       "                                               THINKING Subdirectorio  \\\n",
       "8791  1. Understand the job title:\\n- \"mekaniker lær...          Real   \n",
       "8792  1. Understand the job title:\\n- \"pakkerioperat...          Real   \n",
       "8794  1. Understand what is the job title\\n- \"progra...          Real   \n",
       "8796  1. Understand the job title:\\n   - \"datafagtek...          Real   \n",
       "8798  1. Understand what is the job title\\n- \"frisør...          Real   \n",
       "\n",
       "                                              embedding  Cluster  \n",
       "8791  [-0.015464311465620995, -0.012787009589374065,...      0.0  \n",
       "8792  [-0.0037420056760311127, -0.025967968627810478...      0.0  \n",
       "8794  [0.0011849647853523493, -0.021040838211774826,...      0.0  \n",
       "8796  [-0.019192222505807877, -0.007996759377419949,...      0.0  \n",
       "8798  [-0.009900701232254505, -0.034403253346681595,...      0.0  "
      ]
     },
     "execution_count": 176,
     "metadata": {},
     "output_type": "execute_result"
    }
   ],
   "source": [
    "titles_real.head()"
   ]
  },
  {
   "cell_type": "code",
   "execution_count": 177,
   "id": "1d24bca0-84c7-4153-a550-a461ffce6853",
   "metadata": {
    "tags": []
   },
   "outputs": [],
   "source": [
    "df_real_titles_with_lang = pd.read_csv('data/df_total_with_languages.csv')"
   ]
  },
  {
   "cell_type": "code",
   "execution_count": 178,
   "id": "8a93df46-3761-4e9b-b677-967817048077",
   "metadata": {
    "tags": []
   },
   "outputs": [
    {
     "data": {
      "text/html": [
       "<div>\n",
       "<style scoped>\n",
       "    .dataframe tbody tr th:only-of-type {\n",
       "        vertical-align: middle;\n",
       "    }\n",
       "\n",
       "    .dataframe tbody tr th {\n",
       "        vertical-align: top;\n",
       "    }\n",
       "\n",
       "    .dataframe thead th {\n",
       "        text-align: right;\n",
       "    }\n",
       "</style>\n",
       "<table border=\"1\" class=\"dataframe\">\n",
       "  <thead>\n",
       "    <tr style=\"text-align: right;\">\n",
       "      <th></th>\n",
       "      <th>JOB_TITLE</th>\n",
       "      <th>FREQ</th>\n",
       "      <th>language</th>\n",
       "    </tr>\n",
       "  </thead>\n",
       "  <tbody>\n",
       "    <tr>\n",
       "      <th>0</th>\n",
       "      <td>project manager</td>\n",
       "      <td>7962088</td>\n",
       "      <td>en</td>\n",
       "    </tr>\n",
       "    <tr>\n",
       "      <th>1</th>\n",
       "      <td>manager</td>\n",
       "      <td>7853881</td>\n",
       "      <td>en</td>\n",
       "    </tr>\n",
       "    <tr>\n",
       "      <th>2</th>\n",
       "      <td>owner</td>\n",
       "      <td>6736033</td>\n",
       "      <td>en</td>\n",
       "    </tr>\n",
       "    <tr>\n",
       "      <th>3</th>\n",
       "      <td>intern</td>\n",
       "      <td>6670574</td>\n",
       "      <td>en</td>\n",
       "    </tr>\n",
       "    <tr>\n",
       "      <th>4</th>\n",
       "      <td>software engineer</td>\n",
       "      <td>6491523</td>\n",
       "      <td>en</td>\n",
       "    </tr>\n",
       "  </tbody>\n",
       "</table>\n",
       "</div>"
      ],
      "text/plain": [
       "           JOB_TITLE     FREQ language\n",
       "0    project manager  7962088       en\n",
       "1            manager  7853881       en\n",
       "2              owner  6736033       en\n",
       "3             intern  6670574       en\n",
       "4  software engineer  6491523       en"
      ]
     },
     "execution_count": 178,
     "metadata": {},
     "output_type": "execute_result"
    }
   ],
   "source": [
    "df_real_titles_with_lang.head()"
   ]
  },
  {
   "cell_type": "code",
   "execution_count": 179,
   "id": "7bb111bd-e7bd-4b31-85c5-bac1aeca3ca2",
   "metadata": {
    "tags": []
   },
   "outputs": [],
   "source": [
    "df_merged_real_titles_with_lang = pd.merge(df_real_titles_with_lang, titles_real, on = 'JOB_TITLE', how='inner')"
   ]
  },
  {
   "cell_type": "code",
   "execution_count": 180,
   "id": "0b78e0dc-cdf6-4cb9-986f-78a3ff3fd586",
   "metadata": {
    "tags": []
   },
   "outputs": [
    {
     "data": {
      "text/plain": [
       "(17021, 9)"
      ]
     },
     "execution_count": 180,
     "metadata": {},
     "output_type": "execute_result"
    }
   ],
   "source": [
    "df_merged_real_titles_with_lang.shape"
   ]
  },
  {
   "cell_type": "code",
   "execution_count": 181,
   "id": "a68ff4eb-da4d-4468-9f08-a1db8698442b",
   "metadata": {
    "tags": []
   },
   "outputs": [
    {
     "data": {
      "text/html": [
       "<div>\n",
       "<style scoped>\n",
       "    .dataframe tbody tr th:only-of-type {\n",
       "        vertical-align: middle;\n",
       "    }\n",
       "\n",
       "    .dataframe tbody tr th {\n",
       "        vertical-align: top;\n",
       "    }\n",
       "\n",
       "    .dataframe thead th {\n",
       "        text-align: right;\n",
       "    }\n",
       "</style>\n",
       "<table border=\"1\" class=\"dataframe\">\n",
       "  <thead>\n",
       "    <tr style=\"text-align: right;\">\n",
       "      <th></th>\n",
       "      <th>JOB_TITLE</th>\n",
       "      <th>FREQ</th>\n",
       "      <th>language</th>\n",
       "      <th>OUTPUT</th>\n",
       "      <th>CONFIDENCE</th>\n",
       "      <th>THINKING</th>\n",
       "      <th>Subdirectorio</th>\n",
       "      <th>embedding</th>\n",
       "      <th>Cluster</th>\n",
       "    </tr>\n",
       "  </thead>\n",
       "  <tbody>\n",
       "    <tr>\n",
       "      <th>0</th>\n",
       "      <td>praktikant</td>\n",
       "      <td>273458</td>\n",
       "      <td>tr</td>\n",
       "      <td>real</td>\n",
       "      <td>9.0</td>\n",
       "      <td>1. Understand the job title:\\n- \"Praktikant\" a...</td>\n",
       "      <td>Real</td>\n",
       "      <td>[-0.011051123030483723, -0.035384975373744965,...</td>\n",
       "      <td>31.0</td>\n",
       "    </tr>\n",
       "    <tr>\n",
       "      <th>1</th>\n",
       "      <td>claims adjuster</td>\n",
       "      <td>135721</td>\n",
       "      <td>da</td>\n",
       "      <td>real</td>\n",
       "      <td>9.0</td>\n",
       "      <td>1. Understand the job title:\\n- \"Claims Adjust...</td>\n",
       "      <td>Real</td>\n",
       "      <td>[-0.01558340061455965, -0.0033911450300365686,...</td>\n",
       "      <td>18.0</td>\n",
       "    </tr>\n",
       "    <tr>\n",
       "      <th>2</th>\n",
       "      <td>industriemechaniker</td>\n",
       "      <td>127776</td>\n",
       "      <td>sv</td>\n",
       "      <td>real</td>\n",
       "      <td>9.0</td>\n",
       "      <td>1. Understand the job title\\n- \"Industriemecha...</td>\n",
       "      <td>Real</td>\n",
       "      <td>[-0.004307588096708059, -0.01633126102387905, ...</td>\n",
       "      <td>41.0</td>\n",
       "    </tr>\n",
       "    <tr>\n",
       "      <th>3</th>\n",
       "      <td>tour guide</td>\n",
       "      <td>113307</td>\n",
       "      <td>ru</td>\n",
       "      <td>real</td>\n",
       "      <td>9.0</td>\n",
       "      <td>1. Understand what is the job title\\n- \"tour g...</td>\n",
       "      <td>Real</td>\n",
       "      <td>[-0.010901406407356262, -0.02037557028234005, ...</td>\n",
       "      <td>48.0</td>\n",
       "    </tr>\n",
       "    <tr>\n",
       "      <th>4</th>\n",
       "      <td>chargée de clientèle</td>\n",
       "      <td>54941</td>\n",
       "      <td>fr</td>\n",
       "      <td>real</td>\n",
       "      <td>9.0</td>\n",
       "      <td>1. Understand the job title:\\n- \"Chargée de cl...</td>\n",
       "      <td>Real</td>\n",
       "      <td>[-0.005256235133856535, -0.005889357533305883,...</td>\n",
       "      <td>49.0</td>\n",
       "    </tr>\n",
       "  </tbody>\n",
       "</table>\n",
       "</div>"
      ],
      "text/plain": [
       "              JOB_TITLE    FREQ language OUTPUT  CONFIDENCE  \\\n",
       "0            praktikant  273458       tr   real         9.0   \n",
       "1       claims adjuster  135721       da   real         9.0   \n",
       "2   industriemechaniker  127776       sv   real         9.0   \n",
       "3            tour guide  113307       ru   real         9.0   \n",
       "4  chargée de clientèle   54941       fr   real         9.0   \n",
       "\n",
       "                                            THINKING Subdirectorio  \\\n",
       "0  1. Understand the job title:\\n- \"Praktikant\" a...          Real   \n",
       "1  1. Understand the job title:\\n- \"Claims Adjust...          Real   \n",
       "2  1. Understand the job title\\n- \"Industriemecha...          Real   \n",
       "3  1. Understand what is the job title\\n- \"tour g...          Real   \n",
       "4  1. Understand the job title:\\n- \"Chargée de cl...          Real   \n",
       "\n",
       "                                           embedding  Cluster  \n",
       "0  [-0.011051123030483723, -0.035384975373744965,...     31.0  \n",
       "1  [-0.01558340061455965, -0.0033911450300365686,...     18.0  \n",
       "2  [-0.004307588096708059, -0.01633126102387905, ...     41.0  \n",
       "3  [-0.010901406407356262, -0.02037557028234005, ...     48.0  \n",
       "4  [-0.005256235133856535, -0.005889357533305883,...     49.0  "
      ]
     },
     "execution_count": 181,
     "metadata": {},
     "output_type": "execute_result"
    }
   ],
   "source": [
    "df_merged_real_titles_with_lang.head()"
   ]
  },
  {
   "cell_type": "code",
   "execution_count": 182,
   "id": "a938d8ae-cf56-40f0-9f8a-5351441b82ec",
   "metadata": {
    "tags": []
   },
   "outputs": [
    {
     "data": {
      "text/plain": [
       "Index(['JOB_TITLE', 'FREQ', 'language', 'OUTPUT', 'CONFIDENCE', 'THINKING',\n",
       "       'Subdirectorio', 'embedding', 'Cluster'],\n",
       "      dtype='object')"
      ]
     },
     "execution_count": 182,
     "metadata": {},
     "output_type": "execute_result"
    }
   ],
   "source": [
    "df_merged_real_titles_with_lang.columns"
   ]
  },
  {
   "cell_type": "code",
   "execution_count": 183,
   "id": "23a3030e-0ffe-4daf-917b-cac446e4d27d",
   "metadata": {
    "tags": []
   },
   "outputs": [],
   "source": [
    "df_merged_real_titles_with_lang.to_csv('df_merged_real_titles_with_lang.csv', index=False)\n"
   ]
  },
  {
   "cell_type": "code",
   "execution_count": 184,
   "id": "60a3d4e1-5dcc-48a2-b855-7ae5fa468b83",
   "metadata": {
    "tags": []
   },
   "outputs": [],
   "source": [
    "language_counts_real = df_merged_real_titles_with_lang['language'].value_counts()\n",
    "\n",
    "cluster_counts = df_merged_real_titles_with_lang['Cluster'].value_counts()"
   ]
  },
  {
   "cell_type": "code",
   "execution_count": 185,
   "id": "5a0a509e-6416-4028-a049-88000263f930",
   "metadata": {
    "tags": []
   },
   "outputs": [
    {
     "data": {
      "image/png": "[encoded data removed]",
      "text/plain": [
       "<Figure size 1000x600 with 1 Axes>"
      ]
     },
     "metadata": {},
     "output_type": "display_data"
    }
   ],
   "source": [
    "plt.figure(figsize=(10, 6))  \n",
    "language_counts_real.plot(kind='bar', color='skyblue')  \n",
    "plt.title('Proportion of Languages in the Dataset')\n",
    "plt.xlabel('Language')\n",
    "plt.ylabel('Frequency')\n",
    "plt.xticks(rotation=45) \n",
    "plt.show()\n"
   ]
  },
  {
   "cell_type": "code",
   "execution_count": 186,
   "id": "b293ebda-2a56-4821-99e0-c1469132530b",
   "metadata": {
    "tags": []
   },
   "outputs": [
    {
     "data": {
      "image/png": "[encoded data removed]",
      "text/plain": [
       "<Figure size 1000x600 with 1 Axes>"
      ]
     },
     "metadata": {},
     "output_type": "display_data"
    }
   ],
   "source": [
    "plt.figure(figsize=(10, 6)) \n",
    "cluster_counts.plot(kind='bar', color='lightgreen')  \n",
    "plt.title('Cluster distribution')\n",
    "plt.xlabel('Cluster')\n",
    "plt.ylabel('Freq')\n",
    "plt.xticks(rotation=0)  \n",
    "plt.show()\n"
   ]
  },
  {
   "cell_type": "code",
   "execution_count": null,
   "id": "69d7cc2c-3998-4f92-9500-80b6ccc99d67",
   "metadata": {
    "tags": []
   },
   "outputs": [],
   "source": [
    "!pip install fasttext\n",
    "\n",
    "import fasttext\n",
    "\n",
    "!wget -q -O lid.176.ftz https://dl.fbaipublicfiles.com/fasttext/supervised-models/lid.176.ftz\n",
    "\n",
    "model_fasttext = fasttext.load_model('lid.176.ftz')\n",
    "\n",
    "def detect_language_fasttext(text):\n",
    "    prediction = model_fasttext.predict(text.replace('\\n', ' '), k=1)\n",
    "    lang = prediction[0][0].replace('__label__', '')\n",
    "    return lang"
   ]
  },
  {
   "cell_type": "code",
   "execution_count": 188,
   "id": "6a33888d-ed31-4ea7-a15c-ea487dcb8655",
   "metadata": {
    "tags": []
   },
   "outputs": [
    {
     "name": "stdout",
     "output_type": "stream",
     "text": [
      "FastText - Time taken: 0.15 seconds\n"
     ]
    }
   ],
   "source": [
    "import time\n",
    "start_time = time.time()\n",
    "titles_falses['language'] = titles_falses['JOB_TITLE'].apply(detect_language_fasttext)\n",
    "time_fasttext = time.time() - start_time\n",
    "print(f\"FastText - Time taken: {time_fasttext:.2f} seconds\")"
   ]
  },
  {
   "cell_type": "code",
   "execution_count": 189,
   "id": "cb33bc7b-5440-4156-bb99-c85c9f95c600",
   "metadata": {
    "tags": []
   },
   "outputs": [],
   "source": [
    "language_counts_falses = titles_falses['language'].value_counts().nlargest(19)"
   ]
  },
  {
   "cell_type": "code",
   "execution_count": 190,
   "id": "ea4ee722-e252-410a-aa16-38251dc29fc8",
   "metadata": {
    "tags": []
   },
   "outputs": [
    {
     "data": {
      "image/png": "[encoded data removed]",
      "text/plain": [
       "<Figure size 1000x600 with 1 Axes>"
      ]
     },
     "metadata": {},
     "output_type": "display_data"
    }
   ],
   "source": [
    "plt.figure(figsize=(10, 6))  \n",
    "language_counts_falses.plot(kind='bar', color='skyblue')  \n",
    "plt.title('Proportion of Languages in the Dataset')\n",
    "plt.xlabel('Language')\n",
    "plt.ylabel('Frequency')\n",
    "plt.xticks(rotation=45) \n",
    "plt.show()\n"
   ]
  },
  {
   "cell_type": "code",
   "execution_count": 191,
   "id": "d56be0dd-bc2a-484c-b846-8c75a0f02220",
   "metadata": {
    "tags": []
   },
   "outputs": [
    {
     "data": {
      "text/plain": [
       "0        en\n",
       "1        hu\n",
       "2        en\n",
       "3        en\n",
       "4        ar\n",
       "         ..\n",
       "42407    pl\n",
       "42408    pl\n",
       "42409    pl\n",
       "42410    pl\n",
       "42411    pl\n",
       "Name: language, Length: 10904, dtype: object"
      ]
     },
     "execution_count": 191,
     "metadata": {},
     "output_type": "execute_result"
    }
   ],
   "source": [
    "titles_falses['language']"
   ]
  },
  {
   "cell_type": "code",
   "execution_count": 192,
   "id": "9ffe5e07-96ba-487d-b4d6-5eb84f78fc2a",
   "metadata": {
    "tags": []
   },
   "outputs": [
    {
     "data": {
      "text/html": [
       "<div>\n",
       "<style scoped>\n",
       "    .dataframe tbody tr th:only-of-type {\n",
       "        vertical-align: middle;\n",
       "    }\n",
       "\n",
       "    .dataframe tbody tr th {\n",
       "        vertical-align: top;\n",
       "    }\n",
       "\n",
       "    .dataframe thead th {\n",
       "        text-align: right;\n",
       "    }\n",
       "</style>\n",
       "<table border=\"1\" class=\"dataframe\">\n",
       "  <thead>\n",
       "    <tr style=\"text-align: right;\">\n",
       "      <th></th>\n",
       "      <th>JOB_TITLE</th>\n",
       "      <th>language</th>\n",
       "    </tr>\n",
       "  </thead>\n",
       "  <tbody>\n",
       "    <tr>\n",
       "      <th>0</th>\n",
       "      <td>wxf bzr</td>\n",
       "      <td>en</td>\n",
       "    </tr>\n",
       "    <tr>\n",
       "      <th>2</th>\n",
       "      <td>vop rpfq</td>\n",
       "      <td>en</td>\n",
       "    </tr>\n",
       "    <tr>\n",
       "      <th>3</th>\n",
       "      <td>ypl-3qf</td>\n",
       "      <td>en</td>\n",
       "    </tr>\n",
       "    <tr>\n",
       "      <th>5</th>\n",
       "      <td>stb 4n</td>\n",
       "      <td>en</td>\n",
       "    </tr>\n",
       "    <tr>\n",
       "      <th>6</th>\n",
       "      <td>lzp mpfn</td>\n",
       "      <td>en</td>\n",
       "    </tr>\n",
       "    <tr>\n",
       "      <th>...</th>\n",
       "      <td>...</td>\n",
       "      <td>...</td>\n",
       "    </tr>\n",
       "    <tr>\n",
       "      <th>42312</th>\n",
       "      <td>luftballongsspanare</td>\n",
       "      <td>en</td>\n",
       "    </tr>\n",
       "    <tr>\n",
       "      <th>42316</th>\n",
       "      <td>dynamitpuffprototypare</td>\n",
       "      <td>en</td>\n",
       "    </tr>\n",
       "    <tr>\n",
       "      <th>42337</th>\n",
       "      <td>vågskvalpsexpert</td>\n",
       "      <td>en</td>\n",
       "    </tr>\n",
       "    <tr>\n",
       "      <th>42365</th>\n",
       "      <td>glasspinnsdesignspecialist</td>\n",
       "      <td>en</td>\n",
       "    </tr>\n",
       "    <tr>\n",
       "      <th>42369</th>\n",
       "      <td>glitterskyltsexpert</td>\n",
       "      <td>en</td>\n",
       "    </tr>\n",
       "  </tbody>\n",
       "</table>\n",
       "<p>1283 rows × 2 columns</p>\n",
       "</div>"
      ],
      "text/plain": [
       "                        JOB_TITLE language\n",
       "0                         wxf bzr       en\n",
       "2                        vop rpfq       en\n",
       "3                         ypl-3qf       en\n",
       "5                          stb 4n       en\n",
       "6                        lzp mpfn       en\n",
       "...                           ...      ...\n",
       "42312         luftballongsspanare       en\n",
       "42316      dynamitpuffprototypare       en\n",
       "42337            vågskvalpsexpert       en\n",
       "42365  glasspinnsdesignspecialist       en\n",
       "42369         glitterskyltsexpert       en\n",
       "\n",
       "[1283 rows x 2 columns]"
      ]
     },
     "execution_count": 192,
     "metadata": {},
     "output_type": "execute_result"
    }
   ],
   "source": [
    "titles_falses[titles_falses['language'] == 'en'] "
   ]
  },
  {
   "cell_type": "code",
   "execution_count": 193,
   "id": "496d8abc-bf33-499f-a1df-ffe4442d778d",
   "metadata": {
    "tags": []
   },
   "outputs": [],
   "source": [
    "subset_real_titles_final = df_merged_real_titles_with_lang.groupby('language').apply(\n",
    "    lambda x: x.sample(min(len(x), 600), replace=False)).reset_index(drop=True)"
   ]
  },
  {
   "cell_type": "code",
   "execution_count": 194,
   "id": "c778c2be-4a59-4735-b894-74a7f9a77e59",
   "metadata": {
    "tags": []
   },
   "outputs": [
    {
     "data": {
      "text/html": [
       "<div>\n",
       "<style scoped>\n",
       "    .dataframe tbody tr th:only-of-type {\n",
       "        vertical-align: middle;\n",
       "    }\n",
       "\n",
       "    .dataframe tbody tr th {\n",
       "        vertical-align: top;\n",
       "    }\n",
       "\n",
       "    .dataframe thead th {\n",
       "        text-align: right;\n",
       "    }\n",
       "</style>\n",
       "<table border=\"1\" class=\"dataframe\">\n",
       "  <thead>\n",
       "    <tr style=\"text-align: right;\">\n",
       "      <th></th>\n",
       "      <th>JOB_TITLE</th>\n",
       "      <th>FREQ</th>\n",
       "      <th>language</th>\n",
       "      <th>OUTPUT</th>\n",
       "      <th>CONFIDENCE</th>\n",
       "      <th>THINKING</th>\n",
       "      <th>Subdirectorio</th>\n",
       "      <th>embedding</th>\n",
       "      <th>Cluster</th>\n",
       "    </tr>\n",
       "  </thead>\n",
       "  <tbody>\n",
       "    <tr>\n",
       "      <th>0</th>\n",
       "      <td>auxiliar egresos</td>\n",
       "      <td>22</td>\n",
       "      <td>ca</td>\n",
       "      <td>real</td>\n",
       "      <td>9.0</td>\n",
       "      <td>1. Understand the job title:\\n- \"auxiliar egre...</td>\n",
       "      <td>Real</td>\n",
       "      <td>[-0.010989726521074772, -0.007104469928890467,...</td>\n",
       "      <td>45.0</td>\n",
       "    </tr>\n",
       "    <tr>\n",
       "      <th>1</th>\n",
       "      <td>operadora de teleprocessamento</td>\n",
       "      <td>17</td>\n",
       "      <td>ca</td>\n",
       "      <td>real</td>\n",
       "      <td>9.0</td>\n",
       "      <td>1. Understand the job title:\\n- \"Operadora de ...</td>\n",
       "      <td>Real</td>\n",
       "      <td>[-0.04118714854121208, -0.00814212765544653, 0...</td>\n",
       "      <td>39.0</td>\n",
       "    </tr>\n",
       "    <tr>\n",
       "      <th>2</th>\n",
       "      <td>educatore nido d'infanzia</td>\n",
       "      <td>38</td>\n",
       "      <td>ca</td>\n",
       "      <td>real</td>\n",
       "      <td>9.0</td>\n",
       "      <td>1. Understand the job title:\\n   - \"Educatore ...</td>\n",
       "      <td>Real</td>\n",
       "      <td>[-0.01267112698405981, -0.003064248710870743, ...</td>\n",
       "      <td>23.0</td>\n",
       "    </tr>\n",
       "    <tr>\n",
       "      <th>3</th>\n",
       "      <td>auxiliar de cocina parrilla</td>\n",
       "      <td>33</td>\n",
       "      <td>ca</td>\n",
       "      <td>real</td>\n",
       "      <td>9.0</td>\n",
       "      <td>1. Understand the job title:\\n- \"auxiliar de c...</td>\n",
       "      <td>Real</td>\n",
       "      <td>[-0.005690705496817827, 0.0003567288804333657,...</td>\n",
       "      <td>45.0</td>\n",
       "    </tr>\n",
       "    <tr>\n",
       "      <th>4</th>\n",
       "      <td>administratiu va de magatzem</td>\n",
       "      <td>22</td>\n",
       "      <td>ca</td>\n",
       "      <td>real</td>\n",
       "      <td>9.0</td>\n",
       "      <td>1. Understand the job title:\\n- Language appea...</td>\n",
       "      <td>Real</td>\n",
       "      <td>[-0.00490789907053113, -0.009461721405386925, ...</td>\n",
       "      <td>6.0</td>\n",
       "    </tr>\n",
       "  </tbody>\n",
       "</table>\n",
       "</div>"
      ],
      "text/plain": [
       "                        JOB_TITLE  FREQ language OUTPUT  CONFIDENCE  \\\n",
       "0                auxiliar egresos    22       ca   real         9.0   \n",
       "1  operadora de teleprocessamento    17       ca   real         9.0   \n",
       "2       educatore nido d'infanzia    38       ca   real         9.0   \n",
       "3     auxiliar de cocina parrilla    33       ca   real         9.0   \n",
       "4    administratiu va de magatzem    22       ca   real         9.0   \n",
       "\n",
       "                                            THINKING Subdirectorio  \\\n",
       "0  1. Understand the job title:\\n- \"auxiliar egre...          Real   \n",
       "1  1. Understand the job title:\\n- \"Operadora de ...          Real   \n",
       "2  1. Understand the job title:\\n   - \"Educatore ...          Real   \n",
       "3  1. Understand the job title:\\n- \"auxiliar de c...          Real   \n",
       "4  1. Understand the job title:\\n- Language appea...          Real   \n",
       "\n",
       "                                           embedding  Cluster  \n",
       "0  [-0.010989726521074772, -0.007104469928890467,...     45.0  \n",
       "1  [-0.04118714854121208, -0.00814212765544653, 0...     39.0  \n",
       "2  [-0.01267112698405981, -0.003064248710870743, ...     23.0  \n",
       "3  [-0.005690705496817827, 0.0003567288804333657,...     45.0  \n",
       "4  [-0.00490789907053113, -0.009461721405386925, ...      6.0  "
      ]
     },
     "execution_count": 194,
     "metadata": {},
     "output_type": "execute_result"
    }
   ],
   "source": [
    "subset_real_titles_final.head()"
   ]
  },
  {
   "cell_type": "code",
   "execution_count": 195,
   "id": "eb23719a-9dc7-4edb-a31e-ff7198e05f07",
   "metadata": {
    "tags": []
   },
   "outputs": [
    {
     "data": {
      "image/png": "[encoded data removed]",
      "text/plain": [
       "<Figure size 1000x600 with 1 Axes>"
      ]
     },
     "metadata": {},
     "output_type": "display_data"
    },
    {
     "data": {
      "image/png": "[encoded data removed]",
      "text/plain": [
       "<Figure size 1000x600 with 1 Axes>"
      ]
     },
     "metadata": {},
     "output_type": "display_data"
    }
   ],
   "source": [
    "language_counts_real_subset = subset_real_titles_final['language'].value_counts()\n",
    "\n",
    "cluster_counts = subset_real_titles_final['Cluster'].value_counts()\n",
    "\n",
    "plt.figure(figsize=(10, 6))  \n",
    "language_counts_real_subset.plot(kind='bar', color='skyblue')  \n",
    "plt.title('proportion lang')\n",
    "plt.xlabel('lang')\n",
    "plt.ylabel('freq')\n",
    "plt.xticks(rotation=45) \n",
    "plt.show()\n",
    "\n",
    "plt.figure(figsize=(10, 6)) \n",
    "cluster_counts.plot(kind='bar', color='lightgreen')  \n",
    "plt.title('Cluster distribution')\n",
    "plt.xlabel('Cluster')\n",
    "plt.ylabel('Freq')\n",
    "plt.xticks(rotation=0)  \n",
    "plt.show()\n"
   ]
  },
  {
   "cell_type": "code",
   "execution_count": 196,
   "id": "c2428b31-c052-49ab-88be-78366b6699c8",
   "metadata": {
    "tags": []
   },
   "outputs": [
    {
     "data": {
      "text/plain": [
       "(10853, 9)"
      ]
     },
     "execution_count": 196,
     "metadata": {},
     "output_type": "execute_result"
    }
   ],
   "source": [
    "subset_real_titles_final.shape"
   ]
  },
  {
   "cell_type": "code",
   "execution_count": 111,
   "id": "7f9eb7c9-d4ce-4ad4-a5ec-ff492b162c98",
   "metadata": {
    "tags": []
   },
   "outputs": [],
   "source": [
    "subset_real_titles_final.to_csv('titles_real_final.csv')"
   ]
  },
  {
   "cell_type": "markdown",
   "id": "de9b05c4-5a32-4877-b20b-3ca3bd95306e",
   "metadata": {},
   "source": [
    "## Conclusion: Final Selection of Real and Fake Job Titles\n",
    "\n",
    "The selection process for determining which job titles to retain for the dataset involved careful consideration of both synthetic and real categories, ensuring balance and representativeness across linguistic features.\n",
    "\n",
    "### Selection Process for Fake Titles:\n",
    "\n",
    "- **Criteria**: Titles are considered fake if they are:\n",
    "  - Located in categories specifically defined for synthetic data.\n",
    "  - Labeled as 'false' by the classifier (haiku).\n",
    "\n",
    "### Selection Process for Real Titles:\n",
    "\n",
    "- **Criteria**: Titles are selected as real if they are:\n",
    "  - Labeled as 'real' with a high confidence level of 9.\n",
    "  - Not located in a category associated with synthetic data.\n",
    "\n",
    "### Balancing the Datasets:\n",
    "\n",
    "- **Equal Class Sizes**: Both classes (real and fake) are adjusted to have approximately 10,800 titles each.\n",
    "- **Language Distribution**: Reduction in the number of real titles was conducted to achieve a balanced language distribution between the two classes.\n",
    "\n",
    "### Objective and Importance:\n",
    "\n",
    "This careful selection and balancing approach ensures that neither class has a predominant language that could introduce bias into the machine learning model. This methodology is crucial for developing a robust model that performs consistently and fairly across different linguistic contexts, thereby enhancing the overall accuracy and reliability of the model's predictions.\n"
   ]
  },
  {
   "cell_type": "code",
   "execution_count": null,
   "id": "89d82441-01f2-4cfc-817b-1a56f7bf1818",
   "metadata": {},
   "outputs": [],
   "source": []
  }
 ],
 "metadata": {
  "kernelspec": {
   "display_name": "conda_python3",
   "language": "python",
   "name": "conda_python3"
  },
  "language_info": {
   "codemirror_mode": {
    "name": "ipython",
    "version": 3
   },
   "file_extension": ".py",
   "mimetype": "text/x-python",
   "name": "python",
   "nbconvert_exporter": "python",
   "pygments_lexer": "ipython3",
   "version": "3.10.15"
  }
 },
 "nbformat": 4,
 "nbformat_minor": 5
}
